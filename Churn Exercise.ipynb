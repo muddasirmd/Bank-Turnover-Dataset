{
 "cells": [
  {
   "cell_type": "code",
   "execution_count": 1,
   "metadata": {},
   "outputs": [],
   "source": [
    "import pandas as pd\n",
    "import numpy as np\n",
    "import matplotlib.pyplot as plt\n",
    "import seaborn as sn\n",
    "import tensorflow as tf\n",
    "from tensorflow import keras\n",
    "from sklearn.metrics import confusion_matrix, classification_report"
   ]
  },
  {
   "cell_type": "markdown",
   "metadata": {},
   "source": [
    "### Load Dataset"
   ]
  },
  {
   "cell_type": "code",
   "execution_count": 52,
   "metadata": {},
   "outputs": [
    {
     "data": {
      "text/html": [
       "<div>\n",
       "<style scoped>\n",
       "    .dataframe tbody tr th:only-of-type {\n",
       "        vertical-align: middle;\n",
       "    }\n",
       "\n",
       "    .dataframe tbody tr th {\n",
       "        vertical-align: top;\n",
       "    }\n",
       "\n",
       "    .dataframe thead th {\n",
       "        text-align: right;\n",
       "    }\n",
       "</style>\n",
       "<table border=\"1\" class=\"dataframe\">\n",
       "  <thead>\n",
       "    <tr style=\"text-align: right;\">\n",
       "      <th></th>\n",
       "      <th>RowNumber</th>\n",
       "      <th>CustomerId</th>\n",
       "      <th>Surname</th>\n",
       "      <th>CreditScore</th>\n",
       "      <th>Geography</th>\n",
       "      <th>Gender</th>\n",
       "      <th>Age</th>\n",
       "      <th>Tenure</th>\n",
       "      <th>Balance</th>\n",
       "      <th>NumOfProducts</th>\n",
       "      <th>HasCrCard</th>\n",
       "      <th>IsActiveMember</th>\n",
       "      <th>EstimatedSalary</th>\n",
       "      <th>Exited</th>\n",
       "    </tr>\n",
       "  </thead>\n",
       "  <tbody>\n",
       "    <tr>\n",
       "      <th>8999</th>\n",
       "      <td>9000</td>\n",
       "      <td>15810910</td>\n",
       "      <td>Royston</td>\n",
       "      <td>702</td>\n",
       "      <td>Spain</td>\n",
       "      <td>Female</td>\n",
       "      <td>38</td>\n",
       "      <td>9</td>\n",
       "      <td>0.00</td>\n",
       "      <td>2</td>\n",
       "      <td>1</td>\n",
       "      <td>1</td>\n",
       "      <td>158527.45</td>\n",
       "      <td>0</td>\n",
       "    </tr>\n",
       "    <tr>\n",
       "      <th>7261</th>\n",
       "      <td>7262</td>\n",
       "      <td>15734578</td>\n",
       "      <td>Craig</td>\n",
       "      <td>726</td>\n",
       "      <td>France</td>\n",
       "      <td>Female</td>\n",
       "      <td>53</td>\n",
       "      <td>1</td>\n",
       "      <td>113537.73</td>\n",
       "      <td>1</td>\n",
       "      <td>0</td>\n",
       "      <td>1</td>\n",
       "      <td>28367.21</td>\n",
       "      <td>0</td>\n",
       "    </tr>\n",
       "    <tr>\n",
       "      <th>4717</th>\n",
       "      <td>4718</td>\n",
       "      <td>15580487</td>\n",
       "      <td>Martin</td>\n",
       "      <td>627</td>\n",
       "      <td>Germany</td>\n",
       "      <td>Male</td>\n",
       "      <td>38</td>\n",
       "      <td>8</td>\n",
       "      <td>106922.92</td>\n",
       "      <td>2</td>\n",
       "      <td>0</td>\n",
       "      <td>1</td>\n",
       "      <td>84270.09</td>\n",
       "      <td>0</td>\n",
       "    </tr>\n",
       "    <tr>\n",
       "      <th>4731</th>\n",
       "      <td>4732</td>\n",
       "      <td>15622230</td>\n",
       "      <td>Cribb</td>\n",
       "      <td>705</td>\n",
       "      <td>France</td>\n",
       "      <td>Female</td>\n",
       "      <td>35</td>\n",
       "      <td>3</td>\n",
       "      <td>0.00</td>\n",
       "      <td>2</td>\n",
       "      <td>0</td>\n",
       "      <td>1</td>\n",
       "      <td>66331.01</td>\n",
       "      <td>0</td>\n",
       "    </tr>\n",
       "    <tr>\n",
       "      <th>6917</th>\n",
       "      <td>6918</td>\n",
       "      <td>15640418</td>\n",
       "      <td>Omeokachie</td>\n",
       "      <td>649</td>\n",
       "      <td>Germany</td>\n",
       "      <td>Female</td>\n",
       "      <td>41</td>\n",
       "      <td>4</td>\n",
       "      <td>115897.73</td>\n",
       "      <td>1</td>\n",
       "      <td>1</td>\n",
       "      <td>0</td>\n",
       "      <td>143544.48</td>\n",
       "      <td>0</td>\n",
       "    </tr>\n",
       "  </tbody>\n",
       "</table>\n",
       "</div>"
      ],
      "text/plain": [
       "      RowNumber  CustomerId     Surname  CreditScore Geography  Gender  Age  \\\n",
       "8999       9000    15810910     Royston          702     Spain  Female   38   \n",
       "7261       7262    15734578       Craig          726    France  Female   53   \n",
       "4717       4718    15580487      Martin          627   Germany    Male   38   \n",
       "4731       4732    15622230       Cribb          705    France  Female   35   \n",
       "6917       6918    15640418  Omeokachie          649   Germany  Female   41   \n",
       "\n",
       "      Tenure    Balance  NumOfProducts  HasCrCard  IsActiveMember  \\\n",
       "8999       9       0.00              2          1               1   \n",
       "7261       1  113537.73              1          0               1   \n",
       "4717       8  106922.92              2          0               1   \n",
       "4731       3       0.00              2          0               1   \n",
       "6917       4  115897.73              1          1               0   \n",
       "\n",
       "      EstimatedSalary  Exited  \n",
       "8999        158527.45       0  \n",
       "7261         28367.21       0  \n",
       "4717         84270.09       0  \n",
       "4731         66331.01       0  \n",
       "6917        143544.48       0  "
      ]
     },
     "execution_count": 52,
     "metadata": {},
     "output_type": "execute_result"
    }
   ],
   "source": [
    "df = pd.read_csv('./Churn_Modelling.csv')\n",
    "df.sample(5)"
   ]
  },
  {
   "cell_type": "code",
   "execution_count": 3,
   "metadata": {},
   "outputs": [
    {
     "data": {
      "text/plain": [
       "(10000, 14)"
      ]
     },
     "execution_count": 3,
     "metadata": {},
     "output_type": "execute_result"
    }
   ],
   "source": [
    "df.shape"
   ]
  },
  {
   "cell_type": "markdown",
   "metadata": {},
   "source": [
    "### Check Null Values"
   ]
  },
  {
   "cell_type": "code",
   "execution_count": 4,
   "metadata": {},
   "outputs": [
    {
     "data": {
      "text/plain": [
       "RowNumber          0\n",
       "CustomerId         0\n",
       "Surname            0\n",
       "CreditScore        0\n",
       "Geography          0\n",
       "Gender             0\n",
       "Age                0\n",
       "Tenure             0\n",
       "Balance            0\n",
       "NumOfProducts      0\n",
       "HasCrCard          0\n",
       "IsActiveMember     0\n",
       "EstimatedSalary    0\n",
       "Exited             0\n",
       "dtype: int64"
      ]
     },
     "execution_count": 4,
     "metadata": {},
     "output_type": "execute_result"
    }
   ],
   "source": [
    "df.isnull().sum()"
   ]
  },
  {
   "cell_type": "markdown",
   "metadata": {},
   "source": [
    "### Dropping unnecessary Columns"
   ]
  },
  {
   "cell_type": "code",
   "execution_count": 5,
   "metadata": {},
   "outputs": [
    {
     "data": {
      "text/plain": [
       "RowNumber          10000\n",
       "CustomerId         10000\n",
       "Surname             2932\n",
       "CreditScore          460\n",
       "Geography              3\n",
       "Gender                 2\n",
       "Age                   70\n",
       "Tenure                11\n",
       "Balance             6382\n",
       "NumOfProducts          4\n",
       "HasCrCard              2\n",
       "IsActiveMember         2\n",
       "EstimatedSalary     9999\n",
       "Exited                 2\n",
       "dtype: int64"
      ]
     },
     "execution_count": 5,
     "metadata": {},
     "output_type": "execute_result"
    }
   ],
   "source": [
    "df.nunique()"
   ]
  },
  {
   "cell_type": "code",
   "execution_count": 6,
   "metadata": {
    "scrolled": true
   },
   "outputs": [],
   "source": [
    "df1 = df.drop(['RowNumber', 'CustomerId', 'Surname'], axis=1)"
   ]
  },
  {
   "cell_type": "code",
   "execution_count": 7,
   "metadata": {},
   "outputs": [
    {
     "data": {
      "text/html": [
       "<div>\n",
       "<style scoped>\n",
       "    .dataframe tbody tr th:only-of-type {\n",
       "        vertical-align: middle;\n",
       "    }\n",
       "\n",
       "    .dataframe tbody tr th {\n",
       "        vertical-align: top;\n",
       "    }\n",
       "\n",
       "    .dataframe thead th {\n",
       "        text-align: right;\n",
       "    }\n",
       "</style>\n",
       "<table border=\"1\" class=\"dataframe\">\n",
       "  <thead>\n",
       "    <tr style=\"text-align: right;\">\n",
       "      <th></th>\n",
       "      <th>CreditScore</th>\n",
       "      <th>Geography</th>\n",
       "      <th>Gender</th>\n",
       "      <th>Age</th>\n",
       "      <th>Tenure</th>\n",
       "      <th>Balance</th>\n",
       "      <th>NumOfProducts</th>\n",
       "      <th>HasCrCard</th>\n",
       "      <th>IsActiveMember</th>\n",
       "      <th>EstimatedSalary</th>\n",
       "      <th>Exited</th>\n",
       "    </tr>\n",
       "  </thead>\n",
       "  <tbody>\n",
       "    <tr>\n",
       "      <th>0</th>\n",
       "      <td>619</td>\n",
       "      <td>France</td>\n",
       "      <td>Female</td>\n",
       "      <td>42</td>\n",
       "      <td>2</td>\n",
       "      <td>0.00</td>\n",
       "      <td>1</td>\n",
       "      <td>1</td>\n",
       "      <td>1</td>\n",
       "      <td>101348.88</td>\n",
       "      <td>1</td>\n",
       "    </tr>\n",
       "    <tr>\n",
       "      <th>1</th>\n",
       "      <td>608</td>\n",
       "      <td>Spain</td>\n",
       "      <td>Female</td>\n",
       "      <td>41</td>\n",
       "      <td>1</td>\n",
       "      <td>83807.86</td>\n",
       "      <td>1</td>\n",
       "      <td>0</td>\n",
       "      <td>1</td>\n",
       "      <td>112542.58</td>\n",
       "      <td>0</td>\n",
       "    </tr>\n",
       "    <tr>\n",
       "      <th>2</th>\n",
       "      <td>502</td>\n",
       "      <td>France</td>\n",
       "      <td>Female</td>\n",
       "      <td>42</td>\n",
       "      <td>8</td>\n",
       "      <td>159660.80</td>\n",
       "      <td>3</td>\n",
       "      <td>1</td>\n",
       "      <td>0</td>\n",
       "      <td>113931.57</td>\n",
       "      <td>1</td>\n",
       "    </tr>\n",
       "    <tr>\n",
       "      <th>3</th>\n",
       "      <td>699</td>\n",
       "      <td>France</td>\n",
       "      <td>Female</td>\n",
       "      <td>39</td>\n",
       "      <td>1</td>\n",
       "      <td>0.00</td>\n",
       "      <td>2</td>\n",
       "      <td>0</td>\n",
       "      <td>0</td>\n",
       "      <td>93826.63</td>\n",
       "      <td>0</td>\n",
       "    </tr>\n",
       "    <tr>\n",
       "      <th>4</th>\n",
       "      <td>850</td>\n",
       "      <td>Spain</td>\n",
       "      <td>Female</td>\n",
       "      <td>43</td>\n",
       "      <td>2</td>\n",
       "      <td>125510.82</td>\n",
       "      <td>1</td>\n",
       "      <td>1</td>\n",
       "      <td>1</td>\n",
       "      <td>79084.10</td>\n",
       "      <td>0</td>\n",
       "    </tr>\n",
       "  </tbody>\n",
       "</table>\n",
       "</div>"
      ],
      "text/plain": [
       "   CreditScore Geography  Gender  Age  Tenure    Balance  NumOfProducts  \\\n",
       "0          619    France  Female   42       2       0.00              1   \n",
       "1          608     Spain  Female   41       1   83807.86              1   \n",
       "2          502    France  Female   42       8  159660.80              3   \n",
       "3          699    France  Female   39       1       0.00              2   \n",
       "4          850     Spain  Female   43       2  125510.82              1   \n",
       "\n",
       "   HasCrCard  IsActiveMember  EstimatedSalary  Exited  \n",
       "0          1               1        101348.88       1  \n",
       "1          0               1        112542.58       0  \n",
       "2          1               0        113931.57       1  \n",
       "3          0               0         93826.63       0  \n",
       "4          1               1         79084.10       0  "
      ]
     },
     "execution_count": 7,
     "metadata": {},
     "output_type": "execute_result"
    }
   ],
   "source": [
    "df1.head()"
   ]
  },
  {
   "cell_type": "code",
   "execution_count": 8,
   "metadata": {},
   "outputs": [
    {
     "data": {
      "text/plain": [
       "CreditScore          int64\n",
       "Geography           object\n",
       "Gender              object\n",
       "Age                  int64\n",
       "Tenure               int64\n",
       "Balance            float64\n",
       "NumOfProducts        int64\n",
       "HasCrCard            int64\n",
       "IsActiveMember       int64\n",
       "EstimatedSalary    float64\n",
       "Exited               int64\n",
       "dtype: object"
      ]
     },
     "execution_count": 8,
     "metadata": {},
     "output_type": "execute_result"
    }
   ],
   "source": [
    "df1.dtypes"
   ]
  },
  {
   "cell_type": "markdown",
   "metadata": {},
   "source": [
    "### Ploting Histogram against different features"
   ]
  },
  {
   "cell_type": "code",
   "execution_count": 9,
   "metadata": {},
   "outputs": [
    {
     "data": {
      "text/plain": [
       "(7963, 2037)"
      ]
     },
     "execution_count": 9,
     "metadata": {},
     "output_type": "execute_result"
    }
   ],
   "source": [
    "class_0 = df1[df1.Exited == 0]\n",
    "class_1 = df1[df1.Exited == 1]\n",
    "\n",
    "len(class_0), len(class_1)"
   ]
  },
  {
   "cell_type": "code",
   "execution_count": null,
   "metadata": {},
   "outputs": [],
   "source": []
  },
  {
   "cell_type": "code",
   "execution_count": 10,
   "metadata": {},
   "outputs": [
    {
     "data": {
      "text/plain": [
       "<matplotlib.legend.Legend at 0x2088c606ac0>"
      ]
     },
     "execution_count": 10,
     "metadata": {},
     "output_type": "execute_result"
    },
    {
     "data": {
      "image/png": "[encoded data removed]",
      "text/plain": [
       "<Figure size 576x504 with 1 Axes>"
      ]
     },
     "metadata": {
      "needs_background": "light"
     },
     "output_type": "display_data"
    }
   ],
   "source": [
    "tenure_exited_no = class_0.Tenure\n",
    "tenure_exited_yes = class_1.Tenure\n",
    "\n",
    "plt.figure(figsize=(8,7))\n",
    "plt.hist([tenure_exited_yes, tenure_exited_no], label=['Exited', 'Not Exited'], color=['red', 'green'])\n",
    "plt.xlabel('Tenure')\n",
    "plt.ylabel('No. Of Customers')\n",
    "plt.legend()"
   ]
  },
  {
   "cell_type": "markdown",
   "metadata": {},
   "source": [
    "### One-Hot encoding Categorical Columns"
   ]
  },
  {
   "cell_type": "code",
   "execution_count": 11,
   "metadata": {},
   "outputs": [],
   "source": [
    "def print_unique_col_values(df):\n",
    "    for col in df:\n",
    "        if df[col].dtype == 'object':\n",
    "            print(f'{col} : {df[col].unique()}')"
   ]
  },
  {
   "cell_type": "code",
   "execution_count": 12,
   "metadata": {},
   "outputs": [
    {
     "name": "stdout",
     "output_type": "stream",
     "text": [
      "Geography : ['France' 'Spain' 'Germany']\n",
      "Gender : ['Female' 'Male']\n"
     ]
    }
   ],
   "source": [
    "print_unique_col_values(df1)"
   ]
  },
  {
   "cell_type": "code",
   "execution_count": 13,
   "metadata": {},
   "outputs": [],
   "source": [
    "df1.Gender.replace({'Male':0, 'Female':1}, inplace=True)"
   ]
  },
  {
   "cell_type": "code",
   "execution_count": 14,
   "metadata": {},
   "outputs": [],
   "source": [
    "df2 = pd.get_dummies(data=df1, columns=['Geography'])"
   ]
  },
  {
   "cell_type": "code",
   "execution_count": 15,
   "metadata": {},
   "outputs": [],
   "source": [
    "df2.drop('Geography_Spain', axis=1,inplace=True)"
   ]
  },
  {
   "cell_type": "markdown",
   "metadata": {},
   "source": [
    "### Scaling Data"
   ]
  },
  {
   "cell_type": "code",
   "execution_count": 18,
   "metadata": {},
   "outputs": [
    {
     "data": {
      "text/html": [
       "<div>\n",
       "<style scoped>\n",
       "    .dataframe tbody tr th:only-of-type {\n",
       "        vertical-align: middle;\n",
       "    }\n",
       "\n",
       "    .dataframe tbody tr th {\n",
       "        vertical-align: top;\n",
       "    }\n",
       "\n",
       "    .dataframe thead th {\n",
       "        text-align: right;\n",
       "    }\n",
       "</style>\n",
       "<table border=\"1\" class=\"dataframe\">\n",
       "  <thead>\n",
       "    <tr style=\"text-align: right;\">\n",
       "      <th></th>\n",
       "      <th>CreditScore</th>\n",
       "      <th>Gender</th>\n",
       "      <th>Age</th>\n",
       "      <th>Tenure</th>\n",
       "      <th>Balance</th>\n",
       "      <th>NumOfProducts</th>\n",
       "      <th>HasCrCard</th>\n",
       "      <th>IsActiveMember</th>\n",
       "      <th>EstimatedSalary</th>\n",
       "      <th>Exited</th>\n",
       "      <th>Geography_France</th>\n",
       "      <th>Geography_Germany</th>\n",
       "    </tr>\n",
       "  </thead>\n",
       "  <tbody>\n",
       "    <tr>\n",
       "      <th>0</th>\n",
       "      <td>619</td>\n",
       "      <td>1</td>\n",
       "      <td>42</td>\n",
       "      <td>2</td>\n",
       "      <td>0.00</td>\n",
       "      <td>1</td>\n",
       "      <td>1</td>\n",
       "      <td>1</td>\n",
       "      <td>101348.88</td>\n",
       "      <td>1</td>\n",
       "      <td>1</td>\n",
       "      <td>0</td>\n",
       "    </tr>\n",
       "    <tr>\n",
       "      <th>1</th>\n",
       "      <td>608</td>\n",
       "      <td>1</td>\n",
       "      <td>41</td>\n",
       "      <td>1</td>\n",
       "      <td>83807.86</td>\n",
       "      <td>1</td>\n",
       "      <td>0</td>\n",
       "      <td>1</td>\n",
       "      <td>112542.58</td>\n",
       "      <td>0</td>\n",
       "      <td>0</td>\n",
       "      <td>0</td>\n",
       "    </tr>\n",
       "    <tr>\n",
       "      <th>2</th>\n",
       "      <td>502</td>\n",
       "      <td>1</td>\n",
       "      <td>42</td>\n",
       "      <td>8</td>\n",
       "      <td>159660.80</td>\n",
       "      <td>3</td>\n",
       "      <td>1</td>\n",
       "      <td>0</td>\n",
       "      <td>113931.57</td>\n",
       "      <td>1</td>\n",
       "      <td>1</td>\n",
       "      <td>0</td>\n",
       "    </tr>\n",
       "    <tr>\n",
       "      <th>3</th>\n",
       "      <td>699</td>\n",
       "      <td>1</td>\n",
       "      <td>39</td>\n",
       "      <td>1</td>\n",
       "      <td>0.00</td>\n",
       "      <td>2</td>\n",
       "      <td>0</td>\n",
       "      <td>0</td>\n",
       "      <td>93826.63</td>\n",
       "      <td>0</td>\n",
       "      <td>1</td>\n",
       "      <td>0</td>\n",
       "    </tr>\n",
       "    <tr>\n",
       "      <th>4</th>\n",
       "      <td>850</td>\n",
       "      <td>1</td>\n",
       "      <td>43</td>\n",
       "      <td>2</td>\n",
       "      <td>125510.82</td>\n",
       "      <td>1</td>\n",
       "      <td>1</td>\n",
       "      <td>1</td>\n",
       "      <td>79084.10</td>\n",
       "      <td>0</td>\n",
       "      <td>0</td>\n",
       "      <td>0</td>\n",
       "    </tr>\n",
       "  </tbody>\n",
       "</table>\n",
       "</div>"
      ],
      "text/plain": [
       "   CreditScore  Gender  Age  Tenure    Balance  NumOfProducts  HasCrCard  \\\n",
       "0          619       1   42       2       0.00              1          1   \n",
       "1          608       1   41       1   83807.86              1          0   \n",
       "2          502       1   42       8  159660.80              3          1   \n",
       "3          699       1   39       1       0.00              2          0   \n",
       "4          850       1   43       2  125510.82              1          1   \n",
       "\n",
       "   IsActiveMember  EstimatedSalary  Exited  Geography_France  \\\n",
       "0               1        101348.88       1                 1   \n",
       "1               1        112542.58       0                 0   \n",
       "2               0        113931.57       1                 1   \n",
       "3               0         93826.63       0                 1   \n",
       "4               1         79084.10       0                 0   \n",
       "\n",
       "   Geography_Germany  \n",
       "0                  0  \n",
       "1                  0  \n",
       "2                  0  \n",
       "3                  0  \n",
       "4                  0  "
      ]
     },
     "execution_count": 18,
     "metadata": {},
     "output_type": "execute_result"
    }
   ],
   "source": [
    "df2.head()"
   ]
  },
  {
   "cell_type": "code",
   "execution_count": 19,
   "metadata": {},
   "outputs": [],
   "source": [
    "cols_to_scale=['CreditScore', 'Age', 'Balance', 'EstimatedSalary']"
   ]
  },
  {
   "cell_type": "code",
   "execution_count": 20,
   "metadata": {},
   "outputs": [],
   "source": [
    "from sklearn.preprocessing import MinMaxScaler\n",
    "scaler = MinMaxScaler()"
   ]
  },
  {
   "cell_type": "code",
   "execution_count": 21,
   "metadata": {},
   "outputs": [],
   "source": [
    "df2[cols_to_scale] = scaler.fit_transform(df2[cols_to_scale])"
   ]
  },
  {
   "cell_type": "code",
   "execution_count": 22,
   "metadata": {},
   "outputs": [
    {
     "data": {
      "text/html": [
       "<div>\n",
       "<style scoped>\n",
       "    .dataframe tbody tr th:only-of-type {\n",
       "        vertical-align: middle;\n",
       "    }\n",
       "\n",
       "    .dataframe tbody tr th {\n",
       "        vertical-align: top;\n",
       "    }\n",
       "\n",
       "    .dataframe thead th {\n",
       "        text-align: right;\n",
       "    }\n",
       "</style>\n",
       "<table border=\"1\" class=\"dataframe\">\n",
       "  <thead>\n",
       "    <tr style=\"text-align: right;\">\n",
       "      <th></th>\n",
       "      <th>CreditScore</th>\n",
       "      <th>Gender</th>\n",
       "      <th>Age</th>\n",
       "      <th>Tenure</th>\n",
       "      <th>Balance</th>\n",
       "      <th>NumOfProducts</th>\n",
       "      <th>HasCrCard</th>\n",
       "      <th>IsActiveMember</th>\n",
       "      <th>EstimatedSalary</th>\n",
       "      <th>Exited</th>\n",
       "      <th>Geography_France</th>\n",
       "      <th>Geography_Germany</th>\n",
       "    </tr>\n",
       "  </thead>\n",
       "  <tbody>\n",
       "    <tr>\n",
       "      <th>0</th>\n",
       "      <td>0.538</td>\n",
       "      <td>1</td>\n",
       "      <td>0.324324</td>\n",
       "      <td>2</td>\n",
       "      <td>0.000000</td>\n",
       "      <td>1</td>\n",
       "      <td>1</td>\n",
       "      <td>1</td>\n",
       "      <td>0.506735</td>\n",
       "      <td>1</td>\n",
       "      <td>1</td>\n",
       "      <td>0</td>\n",
       "    </tr>\n",
       "    <tr>\n",
       "      <th>1</th>\n",
       "      <td>0.516</td>\n",
       "      <td>1</td>\n",
       "      <td>0.310811</td>\n",
       "      <td>1</td>\n",
       "      <td>0.334031</td>\n",
       "      <td>1</td>\n",
       "      <td>0</td>\n",
       "      <td>1</td>\n",
       "      <td>0.562709</td>\n",
       "      <td>0</td>\n",
       "      <td>0</td>\n",
       "      <td>0</td>\n",
       "    </tr>\n",
       "    <tr>\n",
       "      <th>2</th>\n",
       "      <td>0.304</td>\n",
       "      <td>1</td>\n",
       "      <td>0.324324</td>\n",
       "      <td>8</td>\n",
       "      <td>0.636357</td>\n",
       "      <td>3</td>\n",
       "      <td>1</td>\n",
       "      <td>0</td>\n",
       "      <td>0.569654</td>\n",
       "      <td>1</td>\n",
       "      <td>1</td>\n",
       "      <td>0</td>\n",
       "    </tr>\n",
       "    <tr>\n",
       "      <th>3</th>\n",
       "      <td>0.698</td>\n",
       "      <td>1</td>\n",
       "      <td>0.283784</td>\n",
       "      <td>1</td>\n",
       "      <td>0.000000</td>\n",
       "      <td>2</td>\n",
       "      <td>0</td>\n",
       "      <td>0</td>\n",
       "      <td>0.469120</td>\n",
       "      <td>0</td>\n",
       "      <td>1</td>\n",
       "      <td>0</td>\n",
       "    </tr>\n",
       "    <tr>\n",
       "      <th>4</th>\n",
       "      <td>1.000</td>\n",
       "      <td>1</td>\n",
       "      <td>0.337838</td>\n",
       "      <td>2</td>\n",
       "      <td>0.500246</td>\n",
       "      <td>1</td>\n",
       "      <td>1</td>\n",
       "      <td>1</td>\n",
       "      <td>0.395400</td>\n",
       "      <td>0</td>\n",
       "      <td>0</td>\n",
       "      <td>0</td>\n",
       "    </tr>\n",
       "  </tbody>\n",
       "</table>\n",
       "</div>"
      ],
      "text/plain": [
       "   CreditScore  Gender       Age  Tenure   Balance  NumOfProducts  HasCrCard  \\\n",
       "0        0.538       1  0.324324       2  0.000000              1          1   \n",
       "1        0.516       1  0.310811       1  0.334031              1          0   \n",
       "2        0.304       1  0.324324       8  0.636357              3          1   \n",
       "3        0.698       1  0.283784       1  0.000000              2          0   \n",
       "4        1.000       1  0.337838       2  0.500246              1          1   \n",
       "\n",
       "   IsActiveMember  EstimatedSalary  Exited  Geography_France  \\\n",
       "0               1         0.506735       1                 1   \n",
       "1               1         0.562709       0                 0   \n",
       "2               0         0.569654       1                 1   \n",
       "3               0         0.469120       0                 1   \n",
       "4               1         0.395400       0                 0   \n",
       "\n",
       "   Geography_Germany  \n",
       "0                  0  \n",
       "1                  0  \n",
       "2                  0  \n",
       "3                  0  \n",
       "4                  0  "
      ]
     },
     "execution_count": 22,
     "metadata": {},
     "output_type": "execute_result"
    }
   ],
   "source": [
    "df2.head()"
   ]
  },
  {
   "cell_type": "markdown",
   "metadata": {},
   "source": [
    "### Spliting Train and Test Data"
   ]
  },
  {
   "cell_type": "code",
   "execution_count": 23,
   "metadata": {},
   "outputs": [],
   "source": [
    "from sklearn.model_selection import train_test_split"
   ]
  },
  {
   "cell_type": "code",
   "execution_count": 24,
   "metadata": {},
   "outputs": [],
   "source": [
    "X = df2.drop('Exited', axis=1)\n",
    "y = df2.Exited"
   ]
  },
  {
   "cell_type": "code",
   "execution_count": 25,
   "metadata": {},
   "outputs": [],
   "source": [
    "X_train, X_test, y_train, y_test = train_test_split(X, y, test_size=0.2)"
   ]
  },
  {
   "cell_type": "code",
   "execution_count": 26,
   "metadata": {},
   "outputs": [
    {
     "data": {
      "text/plain": [
       "((8000, 11), (2000, 11))"
      ]
     },
     "execution_count": 26,
     "metadata": {},
     "output_type": "execute_result"
    }
   ],
   "source": [
    "X_train.shape, X_test.shape"
   ]
  },
  {
   "cell_type": "markdown",
   "metadata": {},
   "source": [
    "### Creating a Model"
   ]
  },
  {
   "cell_type": "code",
   "execution_count": 53,
   "metadata": {},
   "outputs": [],
   "source": [
    "def ANN(X_train, y_train, X_test, y_test, epcs):\n",
    "    \n",
    "    model = keras.Sequential([\n",
    "        keras.layers.Dense(100, input_shape=(11,), activation='relu'),\n",
    "        keras.layers.Dense(120, activation='relu'),\n",
    "        keras.layers.Dense(1, activation='sigmoid')\n",
    "    ])\n",
    "\n",
    "    model.compile(optimizer='adam', loss=\"binary_crossentropy\", metrics=['accuracy'])\n",
    "\n",
    "    model.fit(X_train, y_train, epochs=epcs)\n",
    "    \n",
    "    print(\"Model Evaluation : \")\n",
    "    print(model.evaluate(X_test, y_test))\n",
    "    \n",
    "    y_preds = model.predict(X_test)\n",
    "    y_preds = np.round(y_preds)\n",
    "    \n",
    "    print(\"Classification Report: \\n\", classification_report(y_test, y_preds))\n",
    "    \n",
    "    return y_preds"
   ]
  },
  {
   "cell_type": "code",
   "execution_count": 29,
   "metadata": {
    "scrolled": true
   },
   "outputs": [
    {
     "name": "stdout",
     "output_type": "stream",
     "text": [
      "Epoch 1/100\n",
      "250/250 [==============================] - 2s 3ms/step - loss: 0.4814 - accuracy: 0.7955\n",
      "Epoch 2/100\n",
      "250/250 [==============================] - 1s 3ms/step - loss: 0.4407 - accuracy: 0.8133\n",
      "Epoch 3/100\n",
      "250/250 [==============================] - 1s 3ms/step - loss: 0.4168 - accuracy: 0.8221\n",
      "Epoch 4/100\n",
      "250/250 [==============================] - 1s 3ms/step - loss: 0.3975 - accuracy: 0.8279\n",
      "Epoch 5/100\n",
      "250/250 [==============================] - 1s 3ms/step - loss: 0.3866 - accuracy: 0.8367\n",
      "Epoch 6/100\n",
      "250/250 [==============================] - 1s 3ms/step - loss: 0.3762 - accuracy: 0.8419\n",
      "Epoch 7/100\n",
      "250/250 [==============================] - 1s 3ms/step - loss: 0.3682 - accuracy: 0.8451\n",
      "Epoch 8/100\n",
      "250/250 [==============================] - 1s 3ms/step - loss: 0.3647 - accuracy: 0.8462\n",
      "Epoch 9/100\n",
      "250/250 [==============================] - 1s 3ms/step - loss: 0.3581 - accuracy: 0.8510\n",
      "Epoch 10/100\n",
      "250/250 [==============================] - 1s 4ms/step - loss: 0.3560 - accuracy: 0.8531\n",
      "Epoch 11/100\n",
      "250/250 [==============================] - 1s 3ms/step - loss: 0.3529 - accuracy: 0.8549\n",
      "Epoch 12/100\n",
      "250/250 [==============================] - 1s 3ms/step - loss: 0.3514 - accuracy: 0.8541\n",
      "Epoch 13/100\n",
      "250/250 [==============================] - 1s 3ms/step - loss: 0.3450 - accuracy: 0.8600\n",
      "Epoch 14/100\n",
      "250/250 [==============================] - 1s 3ms/step - loss: 0.3420 - accuracy: 0.8604\n",
      "Epoch 15/100\n",
      "250/250 [==============================] - 1s 3ms/step - loss: 0.3410 - accuracy: 0.8630\n",
      "Epoch 16/100\n",
      "250/250 [==============================] - 1s 3ms/step - loss: 0.3397 - accuracy: 0.8600\n",
      "Epoch 17/100\n",
      "250/250 [==============================] - 1s 4ms/step - loss: 0.3364 - accuracy: 0.8629\n",
      "Epoch 18/100\n",
      "250/250 [==============================] - 1s 3ms/step - loss: 0.3375 - accuracy: 0.8637\n",
      "Epoch 19/100\n",
      "250/250 [==============================] - 1s 3ms/step - loss: 0.3345 - accuracy: 0.8650\n",
      "Epoch 20/100\n",
      "250/250 [==============================] - 1s 4ms/step - loss: 0.3323 - accuracy: 0.8629\n",
      "Epoch 21/100\n",
      "250/250 [==============================] - 1s 3ms/step - loss: 0.3320 - accuracy: 0.8645\n",
      "Epoch 22/100\n",
      "250/250 [==============================] - 1s 3ms/step - loss: 0.3281 - accuracy: 0.8680\n",
      "Epoch 23/100\n",
      "250/250 [==============================] - 1s 3ms/step - loss: 0.3309 - accuracy: 0.8646\n",
      "Epoch 24/100\n",
      "250/250 [==============================] - 1s 3ms/step - loss: 0.3260 - accuracy: 0.8671\n",
      "Epoch 25/100\n",
      "250/250 [==============================] - 1s 3ms/step - loss: 0.3274 - accuracy: 0.8689\n",
      "Epoch 26/100\n",
      "250/250 [==============================] - 1s 3ms/step - loss: 0.3256 - accuracy: 0.8681\n",
      "Epoch 27/100\n",
      "250/250 [==============================] - 1s 3ms/step - loss: 0.3249 - accuracy: 0.8665\n",
      "Epoch 28/100\n",
      "250/250 [==============================] - 1s 3ms/step - loss: 0.3234 - accuracy: 0.8686\n",
      "Epoch 29/100\n",
      "250/250 [==============================] - 1s 3ms/step - loss: 0.3210 - accuracy: 0.8668\n",
      "Epoch 30/100\n",
      "250/250 [==============================] - 1s 3ms/step - loss: 0.3215 - accuracy: 0.8725\n",
      "Epoch 31/100\n",
      "250/250 [==============================] - 1s 3ms/step - loss: 0.3212 - accuracy: 0.8696\n",
      "Epoch 32/100\n",
      "250/250 [==============================] - 1s 4ms/step - loss: 0.3182 - accuracy: 0.8708\n",
      "Epoch 33/100\n",
      "250/250 [==============================] - 1s 3ms/step - loss: 0.3192 - accuracy: 0.8695\n",
      "Epoch 34/100\n",
      "250/250 [==============================] - 1s 3ms/step - loss: 0.3178 - accuracy: 0.8691\n",
      "Epoch 35/100\n",
      "250/250 [==============================] - 1s 3ms/step - loss: 0.3168 - accuracy: 0.8736\n",
      "Epoch 36/100\n",
      "250/250 [==============================] - 1s 3ms/step - loss: 0.3148 - accuracy: 0.8698\n",
      "Epoch 37/100\n",
      "250/250 [==============================] - 1s 3ms/step - loss: 0.3151 - accuracy: 0.8723\n",
      "Epoch 38/100\n",
      "250/250 [==============================] - 1s 3ms/step - loss: 0.3136 - accuracy: 0.8731\n",
      "Epoch 39/100\n",
      "250/250 [==============================] - 1s 3ms/step - loss: 0.3136 - accuracy: 0.8727\n",
      "Epoch 40/100\n",
      "250/250 [==============================] - 1s 3ms/step - loss: 0.3126 - accuracy: 0.8729\n",
      "Epoch 41/100\n",
      "250/250 [==============================] - 1s 3ms/step - loss: 0.3120 - accuracy: 0.8758\n",
      "Epoch 42/100\n",
      "250/250 [==============================] - 1s 3ms/step - loss: 0.3122 - accuracy: 0.8719\n",
      "Epoch 43/100\n",
      "250/250 [==============================] - 1s 3ms/step - loss: 0.3084 - accuracy: 0.8744\n",
      "Epoch 44/100\n",
      "250/250 [==============================] - 1s 3ms/step - loss: 0.3084 - accuracy: 0.8756\n",
      "Epoch 45/100\n",
      "250/250 [==============================] - 1s 3ms/step - loss: 0.3095 - accuracy: 0.8748\n",
      "Epoch 46/100\n",
      "250/250 [==============================] - 1s 3ms/step - loss: 0.3066 - accuracy: 0.8774\n",
      "Epoch 47/100\n",
      "250/250 [==============================] - 1s 3ms/step - loss: 0.3063 - accuracy: 0.8792\n",
      "Epoch 48/100\n",
      "250/250 [==============================] - 1s 3ms/step - loss: 0.3051 - accuracy: 0.8785\n",
      "Epoch 49/100\n",
      "250/250 [==============================] - 1s 3ms/step - loss: 0.3059 - accuracy: 0.8767\n",
      "Epoch 50/100\n",
      "250/250 [==============================] - 1s 3ms/step - loss: 0.3038 - accuracy: 0.8771\n",
      "Epoch 51/100\n",
      "250/250 [==============================] - 1s 3ms/step - loss: 0.3025 - accuracy: 0.8785\n",
      "Epoch 52/100\n",
      "250/250 [==============================] - 1s 3ms/step - loss: 0.3037 - accuracy: 0.8742\n",
      "Epoch 53/100\n",
      "250/250 [==============================] - 1s 3ms/step - loss: 0.3015 - accuracy: 0.8783\n",
      "Epoch 54/100\n",
      "250/250 [==============================] - 1s 3ms/step - loss: 0.3002 - accuracy: 0.8776\n",
      "Epoch 55/100\n",
      "250/250 [==============================] - 1s 3ms/step - loss: 0.3000 - accuracy: 0.8790\n",
      "Epoch 56/100\n",
      "250/250 [==============================] - 1s 3ms/step - loss: 0.2986 - accuracy: 0.8790\n",
      "Epoch 57/100\n",
      "250/250 [==============================] - 1s 3ms/step - loss: 0.2979 - accuracy: 0.8779\n",
      "Epoch 58/100\n",
      "250/250 [==============================] - 1s 3ms/step - loss: 0.2964 - accuracy: 0.8801\n",
      "Epoch 59/100\n",
      "250/250 [==============================] - 1s 3ms/step - loss: 0.2948 - accuracy: 0.8839\n",
      "Epoch 60/100\n",
      "250/250 [==============================] - 1s 4ms/step - loss: 0.2965 - accuracy: 0.8774\n",
      "Epoch 61/100\n",
      "250/250 [==============================] - 1s 3ms/step - loss: 0.2959 - accuracy: 0.8808\n",
      "Epoch 62/100\n",
      "250/250 [==============================] - 1s 3ms/step - loss: 0.2916 - accuracy: 0.8817\n",
      "Epoch 63/100\n",
      "250/250 [==============================] - 1s 3ms/step - loss: 0.2928 - accuracy: 0.8799\n",
      "Epoch 64/100\n",
      "250/250 [==============================] - 1s 3ms/step - loss: 0.2936 - accuracy: 0.8823\n",
      "Epoch 65/100\n",
      "250/250 [==============================] - 1s 3ms/step - loss: 0.2902 - accuracy: 0.8842\n",
      "Epoch 66/100\n",
      "250/250 [==============================] - 1s 3ms/step - loss: 0.2911 - accuracy: 0.8836\n",
      "Epoch 67/100\n",
      "250/250 [==============================] - 1s 4ms/step - loss: 0.2878 - accuracy: 0.8825\n",
      "Epoch 68/100\n",
      "250/250 [==============================] - 1s 3ms/step - loss: 0.2875 - accuracy: 0.8819\n",
      "Epoch 69/100\n",
      "250/250 [==============================] - 1s 3ms/step - loss: 0.2869 - accuracy: 0.8836\n",
      "Epoch 70/100\n",
      "250/250 [==============================] - 1s 3ms/step - loss: 0.2861 - accuracy: 0.8826\n",
      "Epoch 71/100\n",
      "250/250 [==============================] - 1s 3ms/step - loss: 0.2840 - accuracy: 0.8838\n",
      "Epoch 72/100\n",
      "250/250 [==============================] - 1s 3ms/step - loss: 0.2835 - accuracy: 0.8863\n",
      "Epoch 73/100\n",
      "250/250 [==============================] - 1s 4ms/step - loss: 0.2847 - accuracy: 0.8846\n",
      "Epoch 74/100\n",
      "250/250 [==============================] - 1s 3ms/step - loss: 0.2835 - accuracy: 0.8866\n",
      "Epoch 75/100\n",
      "250/250 [==============================] - 1s 3ms/step - loss: 0.2821 - accuracy: 0.8857\n",
      "Epoch 76/100\n",
      "250/250 [==============================] - 1s 3ms/step - loss: 0.2797 - accuracy: 0.8873\n",
      "Epoch 77/100\n",
      "250/250 [==============================] - 1s 3ms/step - loss: 0.2791 - accuracy: 0.8891\n",
      "Epoch 78/100\n",
      "250/250 [==============================] - 1s 3ms/step - loss: 0.2775 - accuracy: 0.8870\n",
      "Epoch 79/100\n",
      "250/250 [==============================] - 1s 3ms/step - loss: 0.2792 - accuracy: 0.8880\n",
      "Epoch 80/100\n",
      "250/250 [==============================] - 1s 3ms/step - loss: 0.2751 - accuracy: 0.8900\n",
      "Epoch 81/100\n",
      "250/250 [==============================] - 1s 3ms/step - loss: 0.2755 - accuracy: 0.8889\n",
      "Epoch 82/100\n",
      "250/250 [==============================] - 1s 3ms/step - loss: 0.2767 - accuracy: 0.8880\n",
      "Epoch 83/100\n",
      "250/250 [==============================] - 1s 3ms/step - loss: 0.2750 - accuracy: 0.8890\n",
      "Epoch 84/100\n",
      "250/250 [==============================] - 1s 3ms/step - loss: 0.2715 - accuracy: 0.8923\n",
      "Epoch 85/100\n",
      "250/250 [==============================] - 1s 3ms/step - loss: 0.2729 - accuracy: 0.8907\n",
      "Epoch 86/100\n",
      "250/250 [==============================] - 1s 3ms/step - loss: 0.2713 - accuracy: 0.8914\n",
      "Epoch 87/100\n",
      "250/250 [==============================] - 1s 3ms/step - loss: 0.2700 - accuracy: 0.8919\n",
      "Epoch 88/100\n",
      "250/250 [==============================] - 1s 3ms/step - loss: 0.2695 - accuracy: 0.8906\n",
      "Epoch 89/100\n",
      "250/250 [==============================] - 1s 3ms/step - loss: 0.2680 - accuracy: 0.8924\n",
      "Epoch 90/100\n",
      "250/250 [==============================] - 1s 3ms/step - loss: 0.2667 - accuracy: 0.8915\n",
      "Epoch 91/100\n",
      "250/250 [==============================] - 1s 3ms/step - loss: 0.2641 - accuracy: 0.8938\n",
      "Epoch 92/100\n",
      "250/250 [==============================] - 1s 3ms/step - loss: 0.2663 - accuracy: 0.8955\n",
      "Epoch 93/100\n",
      "250/250 [==============================] - 1s 3ms/step - loss: 0.2671 - accuracy: 0.8935\n",
      "Epoch 94/100\n",
      "250/250 [==============================] - 1s 3ms/step - loss: 0.2620 - accuracy: 0.8942\n",
      "Epoch 95/100\n",
      "250/250 [==============================] - 1s 3ms/step - loss: 0.2613 - accuracy: 0.8932\n",
      "Epoch 96/100\n",
      "250/250 [==============================] - 1s 3ms/step - loss: 0.2621 - accuracy: 0.8931\n",
      "Epoch 97/100\n",
      "250/250 [==============================] - 1s 3ms/step - loss: 0.2599 - accuracy: 0.8955\n",
      "Epoch 98/100\n",
      "250/250 [==============================] - 1s 3ms/step - loss: 0.2597 - accuracy: 0.8964\n",
      "Epoch 99/100\n",
      "250/250 [==============================] - 1s 3ms/step - loss: 0.2581 - accuracy: 0.8946\n",
      "Epoch 100/100\n",
      "250/250 [==============================] - 1s 3ms/step - loss: 0.2574 - accuracy: 0.8960\n",
      "Model Evaluation : \n",
      "63/63 [==============================] - 0s 2ms/step - loss: 0.4140 - accuracy: 0.8430\n",
      "[0.4140496850013733, 0.8429999947547913]\n",
      "63/63 [==============================] - 0s 2ms/step\n",
      "Classification Report: \n",
      "               precision    recall  f1-score   support\n",
      "\n",
      "           0       0.87      0.94      0.91      1591\n",
      "           1       0.67      0.46      0.54       409\n",
      "\n",
      "    accuracy                           0.84      2000\n",
      "   macro avg       0.77      0.70      0.73      2000\n",
      "weighted avg       0.83      0.84      0.83      2000\n",
      "\n"
     ]
    }
   ],
   "source": [
    "y_preds = ANN(X_train, y_train, X_test, y_test, 100)"
   ]
  },
  {
   "cell_type": "code",
   "execution_count": 37,
   "metadata": {},
   "outputs": [
    {
     "data": {
      "text/plain": [
       "array([[0.],\n",
       "       [0.],\n",
       "       [0.],\n",
       "       ...,\n",
       "       [0.],\n",
       "       [0.],\n",
       "       [0.]], dtype=float32)"
      ]
     },
     "execution_count": 37,
     "metadata": {},
     "output_type": "execute_result"
    }
   ],
   "source": [
    "y_preds"
   ]
  },
  {
   "cell_type": "markdown",
   "metadata": {},
   "source": [
    "### Confusion Matrix"
   ]
  },
  {
   "cell_type": "code",
   "execution_count": 38,
   "metadata": {},
   "outputs": [],
   "source": [
    "cm = confusion_matrix(y_test, y_preds)"
   ]
  },
  {
   "cell_type": "code",
   "execution_count": 39,
   "metadata": {},
   "outputs": [
    {
     "data": {
      "text/plain": [
       "Text(33.0, 0.5, 'Truth')"
      ]
     },
     "execution_count": 39,
     "metadata": {},
     "output_type": "execute_result"
    },
    {
     "data": {
      "image/png": "[encoded data removed]",
      "text/plain": [
       "<Figure size 432x288 with 1 Axes>"
      ]
     },
     "metadata": {
      "needs_background": "light"
     },
     "output_type": "display_data"
    }
   ],
   "source": [
    "sn.heatmap(cm, annot=True, fmt='d', cbar=False)\n",
    "plt.xlabel('Predicted')\n",
    "plt.ylabel('Truth')"
   ]
  },
  {
   "cell_type": "markdown",
   "metadata": {},
   "source": [
    "## Handle Imbalanced Dataset"
   ]
  },
  {
   "cell_type": "markdown",
   "metadata": {},
   "source": [
    "### 1. SMOTE"
   ]
  },
  {
   "cell_type": "code",
   "execution_count": 40,
   "metadata": {},
   "outputs": [],
   "source": [
    "from imblearn.over_sampling import SMOTE"
   ]
  },
  {
   "cell_type": "code",
   "execution_count": 41,
   "metadata": {},
   "outputs": [
    {
     "data": {
      "text/plain": [
       "0    7963\n",
       "1    2037\n",
       "Name: Exited, dtype: int64"
      ]
     },
     "execution_count": 41,
     "metadata": {},
     "output_type": "execute_result"
    }
   ],
   "source": [
    "y.value_counts()"
   ]
  },
  {
   "cell_type": "code",
   "execution_count": 42,
   "metadata": {},
   "outputs": [],
   "source": [
    "smote = SMOTE(sampling_strategy='minority')"
   ]
  },
  {
   "cell_type": "code",
   "execution_count": 43,
   "metadata": {},
   "outputs": [],
   "source": [
    "X_sm, y_sm = smote.fit_resample(X,y)"
   ]
  },
  {
   "cell_type": "code",
   "execution_count": 44,
   "metadata": {},
   "outputs": [
    {
     "data": {
      "text/plain": [
       "((15926, 11), (15926,))"
      ]
     },
     "execution_count": 44,
     "metadata": {},
     "output_type": "execute_result"
    }
   ],
   "source": [
    "X_sm.shape, y_sm.shape"
   ]
  },
  {
   "cell_type": "code",
   "execution_count": 45,
   "metadata": {},
   "outputs": [
    {
     "data": {
      "text/plain": [
       "1    7963\n",
       "0    7963\n",
       "Name: Exited, dtype: int64"
      ]
     },
     "execution_count": 45,
     "metadata": {},
     "output_type": "execute_result"
    }
   ],
   "source": [
    "y_sm.value_counts()"
   ]
  },
  {
   "cell_type": "markdown",
   "metadata": {},
   "source": [
    "#### Spliting Train and Test Data"
   ]
  },
  {
   "cell_type": "code",
   "execution_count": 46,
   "metadata": {},
   "outputs": [],
   "source": [
    "X_train, X_test, y_train, y_test = train_test_split(X_sm, y_sm, test_size=0.2, stratify=y_sm)"
   ]
  },
  {
   "cell_type": "code",
   "execution_count": 47,
   "metadata": {},
   "outputs": [
    {
     "data": {
      "text/plain": [
       "1    6370\n",
       "0    6370\n",
       "Name: Exited, dtype: int64"
      ]
     },
     "execution_count": 47,
     "metadata": {},
     "output_type": "execute_result"
    }
   ],
   "source": [
    "y_train.value_counts()"
   ]
  },
  {
   "cell_type": "code",
   "execution_count": 48,
   "metadata": {},
   "outputs": [
    {
     "data": {
      "text/plain": [
       "1    1593\n",
       "0    1593\n",
       "Name: Exited, dtype: int64"
      ]
     },
     "execution_count": 48,
     "metadata": {},
     "output_type": "execute_result"
    }
   ],
   "source": [
    "y_test.value_counts()"
   ]
  },
  {
   "cell_type": "code",
   "execution_count": 49,
   "metadata": {
    "scrolled": true
   },
   "outputs": [
    {
     "name": "stdout",
     "output_type": "stream",
     "text": [
      "Epoch 1/100\n",
      "399/399 [==============================] - 3s 3ms/step - loss: 0.6061 - accuracy: 0.6670\n",
      "Epoch 2/100\n",
      "399/399 [==============================] - 1s 3ms/step - loss: 0.5325 - accuracy: 0.7288\n",
      "Epoch 3/100\n",
      "399/399 [==============================] - 1s 4ms/step - loss: 0.5050 - accuracy: 0.7471\n",
      "Epoch 4/100\n",
      "399/399 [==============================] - 1s 3ms/step - loss: 0.4898 - accuracy: 0.7564\n",
      "Epoch 5/100\n",
      "399/399 [==============================] - 1s 3ms/step - loss: 0.4781 - accuracy: 0.7669\n",
      "Epoch 6/100\n",
      "399/399 [==============================] - 1s 3ms/step - loss: 0.4668 - accuracy: 0.7772\n",
      "Epoch 7/100\n",
      "399/399 [==============================] - 1s 3ms/step - loss: 0.4591 - accuracy: 0.7781\n",
      "Epoch 8/100\n",
      "399/399 [==============================] - 1s 3ms/step - loss: 0.4532 - accuracy: 0.7831\n",
      "Epoch 9/100\n",
      "399/399 [==============================] - 1s 4ms/step - loss: 0.4468 - accuracy: 0.7886\n",
      "Epoch 10/100\n",
      "399/399 [==============================] - 2s 4ms/step - loss: 0.4422 - accuracy: 0.7897\n",
      "Epoch 11/100\n",
      "399/399 [==============================] - 2s 4ms/step - loss: 0.4332 - accuracy: 0.7948\n",
      "Epoch 12/100\n",
      "399/399 [==============================] - 2s 4ms/step - loss: 0.4322 - accuracy: 0.7989\n",
      "Epoch 13/100\n",
      "399/399 [==============================] - 2s 4ms/step - loss: 0.4279 - accuracy: 0.8002\n",
      "Epoch 14/100\n",
      "399/399 [==============================] - 2s 4ms/step - loss: 0.4240 - accuracy: 0.8031\n",
      "Epoch 15/100\n",
      "399/399 [==============================] - 2s 4ms/step - loss: 0.4194 - accuracy: 0.8042\n",
      "Epoch 16/100\n",
      "399/399 [==============================] - 2s 4ms/step - loss: 0.4195 - accuracy: 0.8022\n",
      "Epoch 17/100\n",
      "399/399 [==============================] - 1s 3ms/step - loss: 0.4142 - accuracy: 0.8090\n",
      "Epoch 18/100\n",
      "399/399 [==============================] - 1s 3ms/step - loss: 0.4119 - accuracy: 0.8086\n",
      "Epoch 19/100\n",
      "399/399 [==============================] - 2s 4ms/step - loss: 0.4109 - accuracy: 0.8092\n",
      "Epoch 20/100\n",
      "399/399 [==============================] - 2s 4ms/step - loss: 0.4055 - accuracy: 0.8144\n",
      "Epoch 21/100\n",
      "399/399 [==============================] - 2s 4ms/step - loss: 0.4037 - accuracy: 0.8133\n",
      "Epoch 22/100\n",
      "399/399 [==============================] - 2s 5ms/step - loss: 0.4016 - accuracy: 0.8133\n",
      "Epoch 23/100\n",
      "399/399 [==============================] - 2s 5ms/step - loss: 0.3993 - accuracy: 0.8127\n",
      "Epoch 24/100\n",
      "399/399 [==============================] - 2s 5ms/step - loss: 0.3955 - accuracy: 0.8190\n",
      "Epoch 25/100\n",
      "399/399 [==============================] - 1s 3ms/step - loss: 0.3925 - accuracy: 0.8207\n",
      "Epoch 26/100\n",
      "399/399 [==============================] - 1s 4ms/step - loss: 0.3893 - accuracy: 0.8223\n",
      "Epoch 27/100\n",
      "399/399 [==============================] - 1s 3ms/step - loss: 0.3882 - accuracy: 0.8235\n",
      "Epoch 28/100\n",
      "399/399 [==============================] - 1s 3ms/step - loss: 0.3830 - accuracy: 0.8255\n",
      "Epoch 29/100\n",
      "399/399 [==============================] - 2s 4ms/step - loss: 0.3820 - accuracy: 0.8261\n",
      "Epoch 30/100\n",
      "399/399 [==============================] - 1s 3ms/step - loss: 0.3786 - accuracy: 0.8272\n",
      "Epoch 31/100\n",
      "399/399 [==============================] - 1s 3ms/step - loss: 0.3769 - accuracy: 0.8298\n",
      "Epoch 32/100\n",
      "399/399 [==============================] - 2s 4ms/step - loss: 0.3756 - accuracy: 0.8276\n",
      "Epoch 33/100\n",
      "399/399 [==============================] - 2s 4ms/step - loss: 0.3687 - accuracy: 0.8334\n",
      "Epoch 34/100\n",
      "399/399 [==============================] - 2s 4ms/step - loss: 0.3703 - accuracy: 0.8341\n",
      "Epoch 35/100\n",
      "399/399 [==============================] - 2s 4ms/step - loss: 0.3657 - accuracy: 0.8348\n",
      "Epoch 36/100\n",
      "399/399 [==============================] - 2s 4ms/step - loss: 0.3641 - accuracy: 0.8352\n",
      "Epoch 37/100\n",
      "399/399 [==============================] - 1s 3ms/step - loss: 0.3599 - accuracy: 0.8370\n",
      "Epoch 38/100\n",
      "399/399 [==============================] - 1s 3ms/step - loss: 0.3602 - accuracy: 0.8392\n",
      "Epoch 39/100\n",
      "399/399 [==============================] - 1s 3ms/step - loss: 0.3541 - accuracy: 0.8426\n",
      "Epoch 40/100\n",
      "399/399 [==============================] - 2s 4ms/step - loss: 0.3509 - accuracy: 0.8449\n",
      "Epoch 41/100\n",
      "399/399 [==============================] - 2s 5ms/step - loss: 0.3491 - accuracy: 0.8441\n",
      "Epoch 42/100\n",
      "399/399 [==============================] - 2s 5ms/step - loss: 0.3490 - accuracy: 0.8436\n",
      "Epoch 43/100\n",
      "399/399 [==============================] - 2s 4ms/step - loss: 0.3452 - accuracy: 0.8458\n",
      "Epoch 44/100\n",
      "399/399 [==============================] - 2s 5ms/step - loss: 0.3400 - accuracy: 0.8484\n",
      "Epoch 45/100\n",
      "399/399 [==============================] - 1s 3ms/step - loss: 0.3410 - accuracy: 0.8491\n",
      "Epoch 46/100\n",
      "399/399 [==============================] - 2s 4ms/step - loss: 0.3368 - accuracy: 0.8516\n",
      "Epoch 47/100\n",
      "399/399 [==============================] - 2s 4ms/step - loss: 0.3341 - accuracy: 0.8504\n",
      "Epoch 48/100\n",
      "399/399 [==============================] - 2s 4ms/step - loss: 0.3327 - accuracy: 0.8551\n",
      "Epoch 49/100\n",
      "399/399 [==============================] - 2s 5ms/step - loss: 0.3284 - accuracy: 0.8529\n",
      "Epoch 50/100\n",
      "399/399 [==============================] - 2s 4ms/step - loss: 0.3265 - accuracy: 0.8558\n",
      "Epoch 51/100\n",
      "399/399 [==============================] - 2s 4ms/step - loss: 0.3230 - accuracy: 0.8587\n",
      "Epoch 52/100\n",
      "399/399 [==============================] - 2s 4ms/step - loss: 0.3209 - accuracy: 0.8582\n",
      "Epoch 53/100\n",
      "399/399 [==============================] - 2s 4ms/step - loss: 0.3175 - accuracy: 0.8612\n",
      "Epoch 54/100\n",
      "399/399 [==============================] - 1s 4ms/step - loss: 0.3146 - accuracy: 0.8592\n",
      "Epoch 55/100\n",
      "399/399 [==============================] - 1s 3ms/step - loss: 0.3138 - accuracy: 0.8650\n",
      "Epoch 56/100\n",
      "399/399 [==============================] - 1s 3ms/step - loss: 0.3107 - accuracy: 0.8629\n",
      "Epoch 57/100\n",
      "399/399 [==============================] - 2s 5ms/step - loss: 0.3069 - accuracy: 0.8655\n",
      "Epoch 58/100\n",
      "399/399 [==============================] - 1s 3ms/step - loss: 0.3065 - accuracy: 0.8681\n",
      "Epoch 59/100\n",
      "399/399 [==============================] - 1s 3ms/step - loss: 0.3047 - accuracy: 0.8672\n",
      "Epoch 60/100\n",
      "399/399 [==============================] - 1s 3ms/step - loss: 0.3040 - accuracy: 0.8653\n",
      "Epoch 61/100\n",
      "399/399 [==============================] - 1s 3ms/step - loss: 0.3020 - accuracy: 0.8706\n",
      "Epoch 62/100\n",
      "399/399 [==============================] - 1s 3ms/step - loss: 0.2973 - accuracy: 0.8735\n",
      "Epoch 63/100\n",
      "399/399 [==============================] - 1s 3ms/step - loss: 0.2963 - accuracy: 0.8680\n",
      "Epoch 64/100\n",
      "399/399 [==============================] - 1s 3ms/step - loss: 0.2939 - accuracy: 0.8747\n",
      "Epoch 65/100\n",
      "399/399 [==============================] - 1s 3ms/step - loss: 0.2899 - accuracy: 0.8737\n",
      "Epoch 66/100\n",
      "399/399 [==============================] - 1s 3ms/step - loss: 0.2895 - accuracy: 0.8747\n",
      "Epoch 67/100\n",
      "399/399 [==============================] - 1s 3ms/step - loss: 0.2837 - accuracy: 0.8757\n",
      "Epoch 68/100\n",
      "399/399 [==============================] - 1s 3ms/step - loss: 0.2845 - accuracy: 0.8785\n",
      "Epoch 69/100\n",
      "399/399 [==============================] - 1s 3ms/step - loss: 0.2816 - accuracy: 0.8797\n",
      "Epoch 70/100\n",
      "399/399 [==============================] - 1s 3ms/step - loss: 0.2804 - accuracy: 0.8811\n",
      "Epoch 71/100\n",
      "399/399 [==============================] - 1s 3ms/step - loss: 0.2819 - accuracy: 0.8780\n",
      "Epoch 72/100\n",
      "399/399 [==============================] - 1s 4ms/step - loss: 0.2774 - accuracy: 0.8807\n",
      "Epoch 73/100\n",
      "399/399 [==============================] - 2s 4ms/step - loss: 0.2736 - accuracy: 0.8825\n",
      "Epoch 74/100\n",
      "399/399 [==============================] - 1s 4ms/step - loss: 0.2736 - accuracy: 0.8834\n",
      "Epoch 75/100\n",
      "399/399 [==============================] - 1s 4ms/step - loss: 0.2708 - accuracy: 0.8830\n",
      "Epoch 76/100\n",
      "399/399 [==============================] - 1s 4ms/step - loss: 0.2676 - accuracy: 0.8875\n",
      "Epoch 77/100\n",
      "399/399 [==============================] - 2s 4ms/step - loss: 0.2676 - accuracy: 0.8849\n",
      "Epoch 78/100\n",
      "399/399 [==============================] - 2s 4ms/step - loss: 0.2644 - accuracy: 0.8864\n",
      "Epoch 79/100\n",
      "399/399 [==============================] - 2s 4ms/step - loss: 0.2667 - accuracy: 0.8863\n",
      "Epoch 80/100\n",
      "399/399 [==============================] - 2s 4ms/step - loss: 0.2641 - accuracy: 0.8869\n",
      "Epoch 81/100\n",
      "399/399 [==============================] - 1s 3ms/step - loss: 0.2586 - accuracy: 0.8905\n",
      "Epoch 82/100\n",
      "399/399 [==============================] - 1s 3ms/step - loss: 0.2561 - accuracy: 0.8902\n",
      "Epoch 83/100\n",
      "399/399 [==============================] - 1s 4ms/step - loss: 0.2572 - accuracy: 0.8890\n",
      "Epoch 84/100\n",
      "399/399 [==============================] - 1s 3ms/step - loss: 0.2549 - accuracy: 0.8912\n",
      "Epoch 85/100\n",
      "399/399 [==============================] - 1s 4ms/step - loss: 0.2511 - accuracy: 0.8935\n",
      "Epoch 86/100\n",
      "399/399 [==============================] - 1s 3ms/step - loss: 0.2490 - accuracy: 0.8951\n",
      "Epoch 87/100\n",
      "399/399 [==============================] - 1s 4ms/step - loss: 0.2496 - accuracy: 0.8931\n",
      "Epoch 88/100\n",
      "399/399 [==============================] - 1s 4ms/step - loss: 0.2463 - accuracy: 0.8963\n",
      "Epoch 89/100\n",
      "399/399 [==============================] - 1s 3ms/step - loss: 0.2488 - accuracy: 0.8949\n",
      "Epoch 90/100\n",
      "399/399 [==============================] - 1s 3ms/step - loss: 0.2453 - accuracy: 0.8938\n",
      "Epoch 91/100\n",
      "399/399 [==============================] - 1s 4ms/step - loss: 0.2452 - accuracy: 0.8958\n",
      "Epoch 92/100\n",
      "399/399 [==============================] - 1s 3ms/step - loss: 0.2405 - accuracy: 0.9005\n",
      "Epoch 93/100\n",
      "399/399 [==============================] - 2s 4ms/step - loss: 0.2409 - accuracy: 0.8969\n",
      "Epoch 94/100\n",
      "399/399 [==============================] - 1s 3ms/step - loss: 0.2410 - accuracy: 0.8980\n",
      "Epoch 95/100\n",
      "399/399 [==============================] - 1s 3ms/step - loss: 0.2371 - accuracy: 0.8991\n",
      "Epoch 96/100\n",
      "399/399 [==============================] - 1s 3ms/step - loss: 0.2365 - accuracy: 0.9002\n",
      "Epoch 97/100\n",
      "399/399 [==============================] - 1s 3ms/step - loss: 0.2360 - accuracy: 0.9007\n",
      "Epoch 98/100\n",
      "399/399 [==============================] - 1s 3ms/step - loss: 0.2331 - accuracy: 0.9016\n",
      "Epoch 99/100\n",
      "399/399 [==============================] - 1s 3ms/step - loss: 0.2294 - accuracy: 0.9045\n",
      "Epoch 100/100\n",
      "399/399 [==============================] - 1s 3ms/step - loss: 0.2347 - accuracy: 0.8994\n",
      "Model Evaluation : \n",
      "100/100 [==============================] - 0s 2ms/step - loss: 0.3683 - accuracy: 0.8556\n",
      "[0.3682522177696228, 0.8556183576583862]\n",
      "100/100 [==============================] - 0s 2ms/step\n",
      "Classification Report: \n",
      "               precision    recall  f1-score   support\n",
      "\n",
      "           0       0.88      0.82      0.85      1593\n",
      "           1       0.83      0.89      0.86      1593\n",
      "\n",
      "    accuracy                           0.86      3186\n",
      "   macro avg       0.86      0.86      0.86      3186\n",
      "weighted avg       0.86      0.86      0.86      3186\n",
      "\n"
     ]
    }
   ],
   "source": [
    "y_predictions = ANN(X_train, y_train, X_test, y_test, 100)"
   ]
  },
  {
   "cell_type": "code",
   "execution_count": null,
   "metadata": {},
   "outputs": [],
   "source": []
  },
  {
   "cell_type": "code",
   "execution_count": 57,
   "metadata": {},
   "outputs": [
    {
     "data": {
      "text/plain": [
       "array([0., 0., 1., 0., 0.], dtype=float32)"
      ]
     },
     "execution_count": 57,
     "metadata": {},
     "output_type": "execute_result"
    }
   ],
   "source": [
    "y_predictions[:5]"
   ]
  },
  {
   "cell_type": "markdown",
   "metadata": {},
   "source": [
    "#### Confusion Matrix & Classification Report"
   ]
  },
  {
   "cell_type": "code",
   "execution_count": 58,
   "metadata": {},
   "outputs": [],
   "source": [
    "cm = confusion_matrix(y_test, y_predictions)"
   ]
  },
  {
   "cell_type": "code",
   "execution_count": 59,
   "metadata": {},
   "outputs": [
    {
     "data": {
      "text/plain": [
       "Text(33.0, 0.5, 'Truth')"
      ]
     },
     "execution_count": 59,
     "metadata": {},
     "output_type": "execute_result"
    },
    {
     "data": {
      "image/png": "[encoded data removed]",
      "text/plain": [
       "<Figure size 432x288 with 1 Axes>"
      ]
     },
     "metadata": {
      "needs_background": "light"
     },
     "output_type": "display_data"
    }
   ],
   "source": [
    "sn.heatmap(cm, annot=True, fmt='d', cbar=False)\n",
    "plt.xlabel('Predicted')\n",
    "plt.ylabel('Truth')"
   ]
  },
  {
   "cell_type": "code",
   "execution_count": null,
   "metadata": {},
   "outputs": [],
   "source": []
  },
  {
   "cell_type": "markdown",
   "metadata": {},
   "source": [
    "### 2. Ensemble"
   ]
  },
  {
   "cell_type": "code",
   "execution_count": 128,
   "metadata": {},
   "outputs": [
    {
     "data": {
      "text/plain": [
       "0    7963\n",
       "1    2037\n",
       "Name: Exited, dtype: int64"
      ]
     },
     "execution_count": 128,
     "metadata": {},
     "output_type": "execute_result"
    }
   ],
   "source": [
    "y.value_counts()"
   ]
  },
  {
   "cell_type": "code",
   "execution_count": 129,
   "metadata": {},
   "outputs": [],
   "source": [
    "X_train, X_test, y_train, y_test = train_test_split(X, y, test_size=0.2, stratify=y)"
   ]
  },
  {
   "cell_type": "code",
   "execution_count": 130,
   "metadata": {},
   "outputs": [
    {
     "data": {
      "text/plain": [
       "0    6370\n",
       "1    1630\n",
       "Name: Exited, dtype: int64"
      ]
     },
     "execution_count": 130,
     "metadata": {},
     "output_type": "execute_result"
    }
   ],
   "source": [
    "y_train.value_counts()"
   ]
  },
  {
   "cell_type": "code",
   "execution_count": 131,
   "metadata": {},
   "outputs": [
    {
     "data": {
      "text/plain": [
       "2123.3333333333335"
      ]
     },
     "execution_count": 131,
     "metadata": {},
     "output_type": "execute_result"
    }
   ],
   "source": [
    "6370/3"
   ]
  },
  {
   "cell_type": "code",
   "execution_count": null,
   "metadata": {},
   "outputs": [],
   "source": []
  },
  {
   "cell_type": "code",
   "execution_count": 132,
   "metadata": {},
   "outputs": [],
   "source": [
    "df2 = X_train.copy()\n",
    "df2['Exited'] = y_train"
   ]
  },
  {
   "cell_type": "code",
   "execution_count": 133,
   "metadata": {},
   "outputs": [],
   "source": [
    "class_0 = df2[df2['Exited'] == 0]\n",
    "class_1 = df2[df2['Exited'] == 1]"
   ]
  },
  {
   "cell_type": "code",
   "execution_count": 134,
   "metadata": {},
   "outputs": [
    {
     "data": {
      "text/plain": [
       "(6370, 1630)"
      ]
     },
     "execution_count": 134,
     "metadata": {},
     "output_type": "execute_result"
    }
   ],
   "source": [
    "len(class_0), len(class_1)"
   ]
  },
  {
   "cell_type": "code",
   "execution_count": 114,
   "metadata": {},
   "outputs": [],
   "source": [
    "def get_train_batch(df_majority, df_minority, start, end):\n",
    "    \n",
    "    df_train = pd.concat([df_majority[start:end], df_minority], axis=0)\n",
    "    \n",
    "    X_train = df_train.drop('Exited', axis=1)\n",
    "    y_train = df_train['Exited']\n",
    "    \n",
    "    return X_train, y_train"
   ]
  },
  {
   "cell_type": "code",
   "execution_count": null,
   "metadata": {},
   "outputs": [],
   "source": []
  },
  {
   "cell_type": "code",
   "execution_count": 137,
   "metadata": {
    "scrolled": true
   },
   "outputs": [
    {
     "name": "stdout",
     "output_type": "stream",
     "text": [
      "Epoch 1/100\n",
      "102/102 [==============================] - 1s 4ms/step - loss: 0.6602 - accuracy: 0.6071\n",
      "Epoch 2/100\n",
      "102/102 [==============================] - 0s 3ms/step - loss: 0.6144 - accuracy: 0.6592\n",
      "Epoch 3/100\n",
      "102/102 [==============================] - 0s 4ms/step - loss: 0.5898 - accuracy: 0.6844\n",
      "Epoch 4/100\n",
      "102/102 [==============================] - 0s 4ms/step - loss: 0.5651 - accuracy: 0.7067\n",
      "Epoch 5/100\n",
      "102/102 [==============================] - 0s 4ms/step - loss: 0.5396 - accuracy: 0.7288\n",
      "Epoch 6/100\n",
      "102/102 [==============================] - 0s 3ms/step - loss: 0.5321 - accuracy: 0.7328\n",
      "Epoch 7/100\n",
      "102/102 [==============================] - 0s 3ms/step - loss: 0.5193 - accuracy: 0.7387\n",
      "Epoch 8/100\n",
      "102/102 [==============================] - 0s 4ms/step - loss: 0.5032 - accuracy: 0.7571\n",
      "Epoch 9/100\n",
      "102/102 [==============================] - 0s 4ms/step - loss: 0.4995 - accuracy: 0.7583\n",
      "Epoch 10/100\n",
      "102/102 [==============================] - 0s 3ms/step - loss: 0.4991 - accuracy: 0.7564\n",
      "Epoch 11/100\n",
      "102/102 [==============================] - 0s 4ms/step - loss: 0.4867 - accuracy: 0.7666\n",
      "Epoch 12/100\n",
      "102/102 [==============================] - 0s 4ms/step - loss: 0.4892 - accuracy: 0.7669\n",
      "Epoch 13/100\n",
      "102/102 [==============================] - 1s 6ms/step - loss: 0.4827 - accuracy: 0.7635\n",
      "Epoch 14/100\n",
      "102/102 [==============================] - 0s 3ms/step - loss: 0.4754 - accuracy: 0.7681\n",
      "Epoch 15/100\n",
      "102/102 [==============================] - 1s 6ms/step - loss: 0.4732 - accuracy: 0.7638\n",
      "Epoch 16/100\n",
      "102/102 [==============================] - 1s 6ms/step - loss: 0.4698 - accuracy: 0.7696\n",
      "Epoch 17/100\n",
      "102/102 [==============================] - 1s 5ms/step - loss: 0.4668 - accuracy: 0.7709\n",
      "Epoch 18/100\n",
      "102/102 [==============================] - 1s 7ms/step - loss: 0.4630 - accuracy: 0.7788\n",
      "Epoch 19/100\n",
      "102/102 [==============================] - 1s 6ms/step - loss: 0.4528 - accuracy: 0.7810\n",
      "Epoch 20/100\n",
      "102/102 [==============================] - 0s 4ms/step - loss: 0.4603 - accuracy: 0.7742\n",
      "Epoch 21/100\n",
      "102/102 [==============================] - 0s 3ms/step - loss: 0.4577 - accuracy: 0.7761\n",
      "Epoch 22/100\n",
      "102/102 [==============================] - 0s 4ms/step - loss: 0.4511 - accuracy: 0.7813\n",
      "Epoch 23/100\n",
      "102/102 [==============================] - 0s 3ms/step - loss: 0.4558 - accuracy: 0.7748\n",
      "Epoch 24/100\n",
      "102/102 [==============================] - 0s 3ms/step - loss: 0.4528 - accuracy: 0.7798\n",
      "Epoch 25/100\n",
      "102/102 [==============================] - 1s 5ms/step - loss: 0.4421 - accuracy: 0.7874\n",
      "Epoch 26/100\n",
      "102/102 [==============================] - 0s 4ms/step - loss: 0.4421 - accuracy: 0.7899\n",
      "Epoch 27/100\n",
      "102/102 [==============================] - 0s 4ms/step - loss: 0.4425 - accuracy: 0.7844\n",
      "Epoch 28/100\n",
      "102/102 [==============================] - 0s 4ms/step - loss: 0.4369 - accuracy: 0.7896\n",
      "Epoch 29/100\n",
      "102/102 [==============================] - 0s 4ms/step - loss: 0.4354 - accuracy: 0.7917\n",
      "Epoch 30/100\n",
      "102/102 [==============================] - 0s 3ms/step - loss: 0.4332 - accuracy: 0.7917\n",
      "Epoch 31/100\n",
      "102/102 [==============================] - 0s 3ms/step - loss: 0.4289 - accuracy: 0.7926\n",
      "Epoch 32/100\n",
      "102/102 [==============================] - 0s 3ms/step - loss: 0.4335 - accuracy: 0.7948\n",
      "Epoch 33/100\n",
      "102/102 [==============================] - 0s 3ms/step - loss: 0.4274 - accuracy: 0.7988\n",
      "Epoch 34/100\n",
      "102/102 [==============================] - 0s 4ms/step - loss: 0.4334 - accuracy: 0.7917\n",
      "Epoch 35/100\n",
      "102/102 [==============================] - 0s 3ms/step - loss: 0.4241 - accuracy: 0.7926\n",
      "Epoch 36/100\n",
      "102/102 [==============================] - 0s 4ms/step - loss: 0.4220 - accuracy: 0.8031\n",
      "Epoch 37/100\n",
      "102/102 [==============================] - 0s 4ms/step - loss: 0.4193 - accuracy: 0.8012\n",
      "Epoch 38/100\n",
      "102/102 [==============================] - 0s 3ms/step - loss: 0.4186 - accuracy: 0.7988\n",
      "Epoch 39/100\n",
      "102/102 [==============================] - 0s 4ms/step - loss: 0.4147 - accuracy: 0.8043\n",
      "Epoch 40/100\n",
      "102/102 [==============================] - 0s 4ms/step - loss: 0.4157 - accuracy: 0.8052\n",
      "Epoch 41/100\n",
      "102/102 [==============================] - 0s 3ms/step - loss: 0.4129 - accuracy: 0.8052\n",
      "Epoch 42/100\n",
      "102/102 [==============================] - 0s 5ms/step - loss: 0.4072 - accuracy: 0.8071\n",
      "Epoch 43/100\n",
      "102/102 [==============================] - 0s 4ms/step - loss: 0.4080 - accuracy: 0.8107\n",
      "Epoch 44/100\n",
      "102/102 [==============================] - 0s 3ms/step - loss: 0.4099 - accuracy: 0.8052\n",
      "Epoch 45/100\n",
      "102/102 [==============================] - 0s 4ms/step - loss: 0.4075 - accuracy: 0.8067\n",
      "Epoch 46/100\n",
      "102/102 [==============================] - 0s 4ms/step - loss: 0.4041 - accuracy: 0.8092\n",
      "Epoch 47/100\n",
      "102/102 [==============================] - 0s 4ms/step - loss: 0.4093 - accuracy: 0.8058\n",
      "Epoch 48/100\n",
      "102/102 [==============================] - 0s 4ms/step - loss: 0.4027 - accuracy: 0.8098\n",
      "Epoch 49/100\n",
      "102/102 [==============================] - 0s 3ms/step - loss: 0.4003 - accuracy: 0.8147\n",
      "Epoch 50/100\n",
      "102/102 [==============================] - 0s 4ms/step - loss: 0.3992 - accuracy: 0.8113\n",
      "Epoch 51/100\n",
      "102/102 [==============================] - 0s 4ms/step - loss: 0.3949 - accuracy: 0.8160\n",
      "Epoch 52/100\n",
      "102/102 [==============================] - 0s 4ms/step - loss: 0.3927 - accuracy: 0.8184\n",
      "Epoch 53/100\n",
      "102/102 [==============================] - 0s 4ms/step - loss: 0.3972 - accuracy: 0.8104\n",
      "Epoch 54/100\n",
      "102/102 [==============================] - 0s 4ms/step - loss: 0.3976 - accuracy: 0.8132\n",
      "Epoch 55/100\n",
      "102/102 [==============================] - 0s 4ms/step - loss: 0.3916 - accuracy: 0.8190\n",
      "Epoch 56/100\n",
      "102/102 [==============================] - 0s 4ms/step - loss: 0.3883 - accuracy: 0.8166\n",
      "Epoch 57/100\n",
      "102/102 [==============================] - 0s 4ms/step - loss: 0.3878 - accuracy: 0.8184\n",
      "Epoch 58/100\n",
      "102/102 [==============================] - 0s 3ms/step - loss: 0.3842 - accuracy: 0.8242\n",
      "Epoch 59/100\n",
      "102/102 [==============================] - 0s 3ms/step - loss: 0.3861 - accuracy: 0.8230\n",
      "Epoch 60/100\n",
      "102/102 [==============================] - 0s 4ms/step - loss: 0.3789 - accuracy: 0.8267\n",
      "Epoch 61/100\n",
      "102/102 [==============================] - 0s 4ms/step - loss: 0.3837 - accuracy: 0.8178\n",
      "Epoch 62/100\n",
      "102/102 [==============================] - 0s 5ms/step - loss: 0.3843 - accuracy: 0.8178\n",
      "Epoch 63/100\n",
      "102/102 [==============================] - 0s 4ms/step - loss: 0.3825 - accuracy: 0.8252\n",
      "Epoch 64/100\n",
      "102/102 [==============================] - 0s 5ms/step - loss: 0.3807 - accuracy: 0.8166\n",
      "Epoch 65/100\n",
      "102/102 [==============================] - 0s 4ms/step - loss: 0.3763 - accuracy: 0.8273\n",
      "Epoch 66/100\n",
      "102/102 [==============================] - 0s 5ms/step - loss: 0.3730 - accuracy: 0.8242\n",
      "Epoch 67/100\n",
      "102/102 [==============================] - 1s 7ms/step - loss: 0.3738 - accuracy: 0.8196\n",
      "Epoch 68/100\n",
      "102/102 [==============================] - 1s 5ms/step - loss: 0.3731 - accuracy: 0.8298\n",
      "Epoch 69/100\n",
      "102/102 [==============================] - 1s 6ms/step - loss: 0.3701 - accuracy: 0.8236\n",
      "Epoch 70/100\n",
      "102/102 [==============================] - 0s 4ms/step - loss: 0.3734 - accuracy: 0.8252\n",
      "Epoch 71/100\n",
      "102/102 [==============================] - 1s 6ms/step - loss: 0.3675 - accuracy: 0.8273\n",
      "Epoch 72/100\n",
      "102/102 [==============================] - 1s 5ms/step - loss: 0.3668 - accuracy: 0.8252\n",
      "Epoch 73/100\n",
      "102/102 [==============================] - 0s 4ms/step - loss: 0.3682 - accuracy: 0.8279\n",
      "Epoch 74/100\n",
      "102/102 [==============================] - 1s 5ms/step - loss: 0.3660 - accuracy: 0.8301\n",
      "Epoch 75/100\n",
      "102/102 [==============================] - 0s 4ms/step - loss: 0.3633 - accuracy: 0.8313\n",
      "Epoch 76/100\n",
      "102/102 [==============================] - 0s 5ms/step - loss: 0.3672 - accuracy: 0.8264\n",
      "Epoch 77/100\n",
      "102/102 [==============================] - 0s 4ms/step - loss: 0.3566 - accuracy: 0.8313\n",
      "Epoch 78/100\n",
      "102/102 [==============================] - 0s 4ms/step - loss: 0.3558 - accuracy: 0.8365\n",
      "Epoch 79/100\n",
      "102/102 [==============================] - 0s 4ms/step - loss: 0.3578 - accuracy: 0.8319\n",
      "Epoch 80/100\n",
      "102/102 [==============================] - 0s 4ms/step - loss: 0.3565 - accuracy: 0.8362\n",
      "Epoch 81/100\n",
      "102/102 [==============================] - 0s 4ms/step - loss: 0.3544 - accuracy: 0.8408\n",
      "Epoch 82/100\n",
      "102/102 [==============================] - 0s 3ms/step - loss: 0.3513 - accuracy: 0.8362\n",
      "Epoch 83/100\n",
      "102/102 [==============================] - 0s 3ms/step - loss: 0.3499 - accuracy: 0.8365\n",
      "Epoch 84/100\n",
      "102/102 [==============================] - 0s 4ms/step - loss: 0.3461 - accuracy: 0.8390\n",
      "Epoch 85/100\n",
      "102/102 [==============================] - 0s 3ms/step - loss: 0.3488 - accuracy: 0.8423\n",
      "Epoch 86/100\n",
      "102/102 [==============================] - 0s 4ms/step - loss: 0.3480 - accuracy: 0.8393\n",
      "Epoch 87/100\n",
      "102/102 [==============================] - 0s 4ms/step - loss: 0.3449 - accuracy: 0.8393\n",
      "Epoch 88/100\n",
      "102/102 [==============================] - 0s 4ms/step - loss: 0.3403 - accuracy: 0.8442\n",
      "Epoch 89/100\n",
      "102/102 [==============================] - 0s 4ms/step - loss: 0.3475 - accuracy: 0.8417\n",
      "Epoch 90/100\n",
      "102/102 [==============================] - 0s 4ms/step - loss: 0.3425 - accuracy: 0.8445\n",
      "Epoch 91/100\n",
      "102/102 [==============================] - 0s 5ms/step - loss: 0.3428 - accuracy: 0.8380\n",
      "Epoch 92/100\n",
      "102/102 [==============================] - 1s 5ms/step - loss: 0.3406 - accuracy: 0.8383\n",
      "Epoch 93/100\n",
      "102/102 [==============================] - 0s 5ms/step - loss: 0.3375 - accuracy: 0.8423\n",
      "Epoch 94/100\n",
      "102/102 [==============================] - 1s 5ms/step - loss: 0.3374 - accuracy: 0.8460\n",
      "Epoch 95/100\n",
      "102/102 [==============================] - 0s 4ms/step - loss: 0.3376 - accuracy: 0.8466\n",
      "Epoch 96/100\n",
      "102/102 [==============================] - 0s 3ms/step - loss: 0.3349 - accuracy: 0.8414\n",
      "Epoch 97/100\n",
      "102/102 [==============================] - 0s 3ms/step - loss: 0.3334 - accuracy: 0.8528\n",
      "Epoch 98/100\n",
      "102/102 [==============================] - 0s 3ms/step - loss: 0.3326 - accuracy: 0.8482\n",
      "Epoch 99/100\n",
      "102/102 [==============================] - 0s 3ms/step - loss: 0.3285 - accuracy: 0.8525\n",
      "Epoch 100/100\n",
      "102/102 [==============================] - 0s 3ms/step - loss: 0.3325 - accuracy: 0.8463\n",
      "Model Evaluation : \n",
      "63/63 [==============================] - 0s 3ms/step - loss: 0.5129 - accuracy: 0.7905\n",
      "[0.5128650665283203, 0.7904999852180481]\n",
      "63/63 [==============================] - 0s 2ms/step\n",
      "Classification Report: \n",
      "               precision    recall  f1-score   support\n",
      "\n",
      "           0       0.91      0.82      0.86      1593\n",
      "           1       0.49      0.68      0.57       407\n",
      "\n",
      "    accuracy                           0.79      2000\n",
      "   macro avg       0.70      0.75      0.71      2000\n",
      "weighted avg       0.82      0.79      0.80      2000\n",
      "\n"
     ]
    }
   ],
   "source": [
    "X_train, y_train = get_train_batch(class_0, class_1, 0, 1630)\n",
    "y_preds_1 = ANN(X_train, y_train, X_test, y_test, 100)"
   ]
  },
  {
   "cell_type": "code",
   "execution_count": 140,
   "metadata": {
    "scrolled": true
   },
   "outputs": [
    {
     "name": "stdout",
     "output_type": "stream",
     "text": [
      "Epoch 1/100\n",
      "102/102 [==============================] - 1s 4ms/step - loss: 0.6616 - accuracy: 0.6095\n",
      "Epoch 2/100\n",
      "102/102 [==============================] - 0s 4ms/step - loss: 0.6209 - accuracy: 0.6571\n",
      "Epoch 3/100\n",
      "102/102 [==============================] - 0s 3ms/step - loss: 0.5897 - accuracy: 0.6908\n",
      "Epoch 4/100\n",
      "102/102 [==============================] - 0s 4ms/step - loss: 0.5656 - accuracy: 0.7046\n",
      "Epoch 5/100\n",
      "102/102 [==============================] - 0s 3ms/step - loss: 0.5439 - accuracy: 0.7279\n",
      "Epoch 6/100\n",
      "102/102 [==============================] - 0s 4ms/step - loss: 0.5309 - accuracy: 0.7322\n",
      "Epoch 7/100\n",
      "102/102 [==============================] - 0s 4ms/step - loss: 0.5232 - accuracy: 0.7429\n",
      "Epoch 8/100\n",
      "102/102 [==============================] - 0s 3ms/step - loss: 0.5114 - accuracy: 0.7417\n",
      "Epoch 9/100\n",
      "102/102 [==============================] - 0s 4ms/step - loss: 0.5096 - accuracy: 0.7497\n",
      "Epoch 10/100\n",
      "102/102 [==============================] - 0s 4ms/step - loss: 0.4983 - accuracy: 0.7610\n",
      "Epoch 11/100\n",
      "102/102 [==============================] - 0s 3ms/step - loss: 0.4908 - accuracy: 0.7620\n",
      "Epoch 12/100\n",
      "102/102 [==============================] - 0s 3ms/step - loss: 0.4909 - accuracy: 0.7604\n",
      "Epoch 13/100\n",
      "102/102 [==============================] - 0s 3ms/step - loss: 0.4835 - accuracy: 0.7687\n",
      "Epoch 14/100\n",
      "102/102 [==============================] - 0s 4ms/step - loss: 0.4813 - accuracy: 0.7644\n",
      "Epoch 15/100\n",
      "102/102 [==============================] - 0s 4ms/step - loss: 0.4763 - accuracy: 0.7721\n",
      "Epoch 16/100\n",
      "102/102 [==============================] - 0s 3ms/step - loss: 0.4706 - accuracy: 0.7709\n",
      "Epoch 17/100\n",
      "102/102 [==============================] - 0s 3ms/step - loss: 0.4689 - accuracy: 0.7666\n",
      "Epoch 18/100\n",
      "102/102 [==============================] - 0s 4ms/step - loss: 0.4655 - accuracy: 0.7687\n",
      "Epoch 19/100\n",
      "102/102 [==============================] - 1s 6ms/step - loss: 0.4651 - accuracy: 0.7706\n",
      "Epoch 20/100\n",
      "102/102 [==============================] - 0s 3ms/step - loss: 0.4702 - accuracy: 0.7706\n",
      "Epoch 21/100\n",
      "102/102 [==============================] - 1s 5ms/step - loss: 0.4593 - accuracy: 0.7764\n",
      "Epoch 22/100\n",
      "102/102 [==============================] - 0s 3ms/step - loss: 0.4563 - accuracy: 0.7810\n",
      "Epoch 23/100\n",
      "102/102 [==============================] - 1s 5ms/step - loss: 0.4614 - accuracy: 0.7782\n",
      "Epoch 24/100\n",
      "102/102 [==============================] - 0s 4ms/step - loss: 0.4529 - accuracy: 0.7745\n",
      "Epoch 25/100\n",
      "102/102 [==============================] - 0s 3ms/step - loss: 0.4491 - accuracy: 0.7791\n",
      "Epoch 26/100\n",
      "102/102 [==============================] - 0s 4ms/step - loss: 0.4466 - accuracy: 0.7798\n",
      "Epoch 27/100\n",
      "102/102 [==============================] - 0s 3ms/step - loss: 0.4499 - accuracy: 0.7813\n",
      "Epoch 28/100\n",
      "102/102 [==============================] - 0s 3ms/step - loss: 0.4446 - accuracy: 0.7844\n",
      "Epoch 29/100\n",
      "102/102 [==============================] - 0s 3ms/step - loss: 0.4474 - accuracy: 0.7764\n",
      "Epoch 30/100\n",
      "102/102 [==============================] - 0s 5ms/step - loss: 0.4419 - accuracy: 0.7813\n",
      "Epoch 31/100\n",
      "102/102 [==============================] - 0s 3ms/step - loss: 0.4413 - accuracy: 0.7834\n",
      "Epoch 32/100\n",
      "102/102 [==============================] - 0s 3ms/step - loss: 0.4387 - accuracy: 0.7868\n",
      "Epoch 33/100\n",
      "102/102 [==============================] - 0s 4ms/step - loss: 0.4409 - accuracy: 0.7871\n",
      "Epoch 34/100\n",
      "102/102 [==============================] - 0s 4ms/step - loss: 0.4365 - accuracy: 0.7825\n",
      "Epoch 35/100\n",
      "102/102 [==============================] - 0s 4ms/step - loss: 0.4355 - accuracy: 0.7856\n",
      "Epoch 36/100\n",
      "102/102 [==============================] - 0s 3ms/step - loss: 0.4331 - accuracy: 0.7850\n",
      "Epoch 37/100\n",
      "102/102 [==============================] - 0s 4ms/step - loss: 0.4330 - accuracy: 0.7911\n",
      "Epoch 38/100\n",
      "102/102 [==============================] - 0s 4ms/step - loss: 0.4324 - accuracy: 0.7887\n",
      "Epoch 39/100\n",
      "102/102 [==============================] - 0s 4ms/step - loss: 0.4287 - accuracy: 0.7911\n",
      "Epoch 40/100\n",
      "102/102 [==============================] - 0s 4ms/step - loss: 0.4288 - accuracy: 0.7908\n",
      "Epoch 41/100\n",
      "102/102 [==============================] - 0s 4ms/step - loss: 0.4333 - accuracy: 0.7877\n",
      "Epoch 42/100\n",
      "102/102 [==============================] - 0s 3ms/step - loss: 0.4227 - accuracy: 0.7994\n",
      "Epoch 43/100\n",
      "102/102 [==============================] - 0s 4ms/step - loss: 0.4251 - accuracy: 0.7936\n",
      "Epoch 44/100\n",
      "102/102 [==============================] - 0s 5ms/step - loss: 0.4191 - accuracy: 0.7975\n",
      "Epoch 45/100\n",
      "102/102 [==============================] - 0s 4ms/step - loss: 0.4231 - accuracy: 0.7936\n",
      "Epoch 46/100\n",
      "102/102 [==============================] - 0s 4ms/step - loss: 0.4199 - accuracy: 0.7963\n",
      "Epoch 47/100\n",
      "102/102 [==============================] - 0s 4ms/step - loss: 0.4145 - accuracy: 0.8009\n",
      "Epoch 48/100\n",
      "102/102 [==============================] - 0s 4ms/step - loss: 0.4156 - accuracy: 0.8009\n",
      "Epoch 49/100\n",
      "102/102 [==============================] - 0s 4ms/step - loss: 0.4166 - accuracy: 0.8015\n",
      "Epoch 50/100\n",
      "102/102 [==============================] - 0s 3ms/step - loss: 0.4154 - accuracy: 0.7951\n",
      "Epoch 51/100\n",
      "102/102 [==============================] - 0s 3ms/step - loss: 0.4166 - accuracy: 0.7997\n",
      "Epoch 52/100\n",
      "102/102 [==============================] - 0s 3ms/step - loss: 0.4081 - accuracy: 0.8018\n",
      "Epoch 53/100\n",
      "102/102 [==============================] - 0s 4ms/step - loss: 0.4081 - accuracy: 0.8052\n",
      "Epoch 54/100\n",
      "102/102 [==============================] - 0s 3ms/step - loss: 0.4173 - accuracy: 0.8006\n",
      "Epoch 55/100\n",
      "102/102 [==============================] - 0s 4ms/step - loss: 0.4093 - accuracy: 0.8025\n",
      "Epoch 56/100\n",
      "102/102 [==============================] - 0s 4ms/step - loss: 0.4069 - accuracy: 0.8018\n",
      "Epoch 57/100\n",
      "102/102 [==============================] - 0s 3ms/step - loss: 0.4038 - accuracy: 0.8025\n",
      "Epoch 58/100\n",
      "102/102 [==============================] - 0s 4ms/step - loss: 0.4057 - accuracy: 0.8098\n",
      "Epoch 59/100\n",
      "102/102 [==============================] - 0s 4ms/step - loss: 0.4013 - accuracy: 0.8058\n",
      "Epoch 60/100\n",
      "102/102 [==============================] - 0s 3ms/step - loss: 0.4014 - accuracy: 0.8144\n",
      "Epoch 61/100\n",
      "102/102 [==============================] - 0s 3ms/step - loss: 0.4005 - accuracy: 0.8028\n",
      "Epoch 62/100\n",
      "102/102 [==============================] - 0s 4ms/step - loss: 0.3987 - accuracy: 0.8138\n",
      "Epoch 63/100\n",
      "102/102 [==============================] - 0s 3ms/step - loss: 0.4027 - accuracy: 0.8028\n",
      "Epoch 64/100\n",
      "102/102 [==============================] - 0s 3ms/step - loss: 0.3961 - accuracy: 0.8117\n",
      "Epoch 65/100\n",
      "102/102 [==============================] - 0s 3ms/step - loss: 0.3999 - accuracy: 0.8086\n",
      "Epoch 66/100\n",
      "102/102 [==============================] - 0s 4ms/step - loss: 0.3931 - accuracy: 0.8138\n",
      "Epoch 67/100\n",
      "102/102 [==============================] - 0s 4ms/step - loss: 0.3994 - accuracy: 0.8043\n",
      "Epoch 68/100\n",
      "102/102 [==============================] - 0s 3ms/step - loss: 0.3926 - accuracy: 0.8113\n",
      "Epoch 69/100\n",
      "102/102 [==============================] - 0s 3ms/step - loss: 0.3871 - accuracy: 0.8138\n",
      "Epoch 70/100\n",
      "102/102 [==============================] - 0s 4ms/step - loss: 0.3908 - accuracy: 0.8098\n",
      "Epoch 71/100\n",
      "102/102 [==============================] - 0s 4ms/step - loss: 0.3889 - accuracy: 0.8160\n",
      "Epoch 72/100\n",
      "102/102 [==============================] - 0s 3ms/step - loss: 0.3850 - accuracy: 0.8190\n",
      "Epoch 73/100\n",
      "102/102 [==============================] - 0s 4ms/step - loss: 0.3861 - accuracy: 0.8163\n",
      "Epoch 74/100\n",
      "102/102 [==============================] - 0s 5ms/step - loss: 0.3842 - accuracy: 0.8138\n",
      "Epoch 75/100\n",
      "102/102 [==============================] - 0s 4ms/step - loss: 0.3918 - accuracy: 0.8071\n",
      "Epoch 76/100\n",
      "102/102 [==============================] - 0s 4ms/step - loss: 0.3815 - accuracy: 0.8206\n",
      "Epoch 77/100\n",
      "102/102 [==============================] - 0s 3ms/step - loss: 0.3826 - accuracy: 0.8141\n",
      "Epoch 78/100\n",
      "102/102 [==============================] - 0s 3ms/step - loss: 0.3787 - accuracy: 0.8160\n",
      "Epoch 79/100\n",
      "102/102 [==============================] - 0s 3ms/step - loss: 0.3749 - accuracy: 0.8202\n",
      "Epoch 80/100\n",
      "102/102 [==============================] - 0s 4ms/step - loss: 0.3797 - accuracy: 0.8175\n",
      "Epoch 81/100\n",
      "102/102 [==============================] - 0s 3ms/step - loss: 0.3740 - accuracy: 0.8224\n",
      "Epoch 82/100\n",
      "102/102 [==============================] - 0s 3ms/step - loss: 0.3734 - accuracy: 0.8248\n",
      "Epoch 83/100\n",
      "102/102 [==============================] - 0s 3ms/step - loss: 0.3688 - accuracy: 0.8261\n",
      "Epoch 84/100\n",
      "102/102 [==============================] - 0s 3ms/step - loss: 0.3725 - accuracy: 0.8267\n",
      "Epoch 85/100\n",
      "102/102 [==============================] - 0s 3ms/step - loss: 0.3681 - accuracy: 0.8215\n",
      "Epoch 86/100\n",
      "102/102 [==============================] - 0s 3ms/step - loss: 0.3671 - accuracy: 0.8239\n",
      "Epoch 87/100\n",
      "102/102 [==============================] - 0s 3ms/step - loss: 0.3668 - accuracy: 0.8276\n",
      "Epoch 88/100\n",
      "102/102 [==============================] - 0s 3ms/step - loss: 0.3683 - accuracy: 0.8258\n",
      "Epoch 89/100\n",
      "102/102 [==============================] - 0s 4ms/step - loss: 0.3659 - accuracy: 0.8273\n",
      "Epoch 90/100\n",
      "102/102 [==============================] - 0s 3ms/step - loss: 0.3605 - accuracy: 0.8322\n",
      "Epoch 91/100\n",
      "102/102 [==============================] - 0s 3ms/step - loss: 0.3607 - accuracy: 0.8255\n",
      "Epoch 92/100\n",
      "102/102 [==============================] - 0s 4ms/step - loss: 0.3627 - accuracy: 0.8206\n",
      "Epoch 93/100\n",
      "102/102 [==============================] - 0s 3ms/step - loss: 0.3621 - accuracy: 0.8285\n",
      "Epoch 94/100\n",
      "102/102 [==============================] - 0s 3ms/step - loss: 0.3603 - accuracy: 0.8270\n",
      "Epoch 95/100\n",
      "102/102 [==============================] - 0s 3ms/step - loss: 0.3618 - accuracy: 0.8221\n",
      "Epoch 96/100\n",
      "102/102 [==============================] - 0s 3ms/step - loss: 0.3562 - accuracy: 0.8294\n",
      "Epoch 97/100\n",
      "102/102 [==============================] - 0s 3ms/step - loss: 0.3574 - accuracy: 0.8319\n",
      "Epoch 98/100\n",
      "102/102 [==============================] - 0s 3ms/step - loss: 0.3534 - accuracy: 0.8282\n",
      "Epoch 99/100\n",
      "102/102 [==============================] - 0s 3ms/step - loss: 0.3621 - accuracy: 0.8258\n",
      "Epoch 100/100\n",
      "102/102 [==============================] - 0s 3ms/step - loss: 0.3499 - accuracy: 0.8319\n",
      "Model Evaluation : \n",
      "63/63 [==============================] - 1s 2ms/step - loss: 0.4880 - accuracy: 0.8010\n",
      "[0.4880125820636749, 0.8009999990463257]\n",
      "63/63 [==============================] - 0s 2ms/step\n",
      "Classification Report: \n",
      "               precision    recall  f1-score   support\n",
      "\n",
      "           0       0.90      0.84      0.87      1593\n",
      "           1       0.51      0.64      0.57       407\n",
      "\n",
      "    accuracy                           0.80      2000\n",
      "   macro avg       0.71      0.74      0.72      2000\n",
      "weighted avg       0.82      0.80      0.81      2000\n",
      "\n"
     ]
    }
   ],
   "source": [
    "X_train, y_train = get_train_batch(class_0, class_1, 1630, 1630*2)\n",
    "y_preds_2 = ANN(X_train, y_train, X_test, y_test, 100)"
   ]
  },
  {
   "cell_type": "code",
   "execution_count": 141,
   "metadata": {
    "scrolled": true
   },
   "outputs": [
    {
     "name": "stdout",
     "output_type": "stream",
     "text": [
      "Epoch 1/100\n",
      "102/102 [==============================] - 1s 3ms/step - loss: 0.6556 - accuracy: 0.6126\n",
      "Epoch 2/100\n",
      "102/102 [==============================] - 0s 3ms/step - loss: 0.6228 - accuracy: 0.6509\n",
      "Epoch 3/100\n",
      "102/102 [==============================] - 0s 3ms/step - loss: 0.5909 - accuracy: 0.6963\n",
      "Epoch 4/100\n",
      "102/102 [==============================] - 0s 3ms/step - loss: 0.5688 - accuracy: 0.7067\n",
      "Epoch 5/100\n",
      "102/102 [==============================] - 0s 3ms/step - loss: 0.5446 - accuracy: 0.7209\n",
      "Epoch 6/100\n",
      "102/102 [==============================] - 0s 3ms/step - loss: 0.5304 - accuracy: 0.7359\n",
      "Epoch 7/100\n",
      "102/102 [==============================] - 0s 3ms/step - loss: 0.5220 - accuracy: 0.7463\n",
      "Epoch 8/100\n",
      "102/102 [==============================] - 0s 4ms/step - loss: 0.5038 - accuracy: 0.7583\n",
      "Epoch 9/100\n",
      "102/102 [==============================] - 0s 4ms/step - loss: 0.4976 - accuracy: 0.7626\n",
      "Epoch 10/100\n",
      "102/102 [==============================] - 0s 4ms/step - loss: 0.4893 - accuracy: 0.7730\n",
      "Epoch 11/100\n",
      "102/102 [==============================] - 0s 4ms/step - loss: 0.4900 - accuracy: 0.7678\n",
      "Epoch 12/100\n",
      "102/102 [==============================] - 0s 3ms/step - loss: 0.4820 - accuracy: 0.7724\n",
      "Epoch 13/100\n",
      "102/102 [==============================] - 0s 4ms/step - loss: 0.4791 - accuracy: 0.7773\n",
      "Epoch 14/100\n",
      "102/102 [==============================] - 0s 3ms/step - loss: 0.4720 - accuracy: 0.7776\n",
      "Epoch 15/100\n",
      "102/102 [==============================] - 0s 3ms/step - loss: 0.4703 - accuracy: 0.7807\n",
      "Epoch 16/100\n",
      "102/102 [==============================] - 0s 3ms/step - loss: 0.4699 - accuracy: 0.7791\n",
      "Epoch 17/100\n",
      "102/102 [==============================] - 0s 3ms/step - loss: 0.4633 - accuracy: 0.7828\n",
      "Epoch 18/100\n",
      "102/102 [==============================] - 0s 3ms/step - loss: 0.4617 - accuracy: 0.7893\n",
      "Epoch 19/100\n",
      "102/102 [==============================] - 0s 3ms/step - loss: 0.4594 - accuracy: 0.7807\n",
      "Epoch 20/100\n",
      "102/102 [==============================] - 0s 3ms/step - loss: 0.4558 - accuracy: 0.7850\n",
      "Epoch 21/100\n",
      "102/102 [==============================] - 0s 3ms/step - loss: 0.4514 - accuracy: 0.7926\n",
      "Epoch 22/100\n",
      "102/102 [==============================] - 0s 3ms/step - loss: 0.4527 - accuracy: 0.7880\n",
      "Epoch 23/100\n",
      "102/102 [==============================] - 0s 3ms/step - loss: 0.4459 - accuracy: 0.7914\n",
      "Epoch 24/100\n",
      "102/102 [==============================] - 0s 4ms/step - loss: 0.4474 - accuracy: 0.7914\n",
      "Epoch 25/100\n",
      "102/102 [==============================] - 0s 3ms/step - loss: 0.4487 - accuracy: 0.7911\n",
      "Epoch 26/100\n",
      "102/102 [==============================] - 0s 3ms/step - loss: 0.4420 - accuracy: 0.7902\n",
      "Epoch 27/100\n",
      "102/102 [==============================] - 0s 3ms/step - loss: 0.4429 - accuracy: 0.7908\n",
      "Epoch 28/100\n",
      "102/102 [==============================] - 0s 3ms/step - loss: 0.4401 - accuracy: 0.7902\n",
      "Epoch 29/100\n",
      "102/102 [==============================] - 0s 3ms/step - loss: 0.4347 - accuracy: 0.8003\n",
      "Epoch 30/100\n",
      "102/102 [==============================] - 0s 3ms/step - loss: 0.4328 - accuracy: 0.7933\n",
      "Epoch 31/100\n",
      "102/102 [==============================] - 0s 3ms/step - loss: 0.4305 - accuracy: 0.8012\n",
      "Epoch 32/100\n",
      "102/102 [==============================] - 0s 3ms/step - loss: 0.4356 - accuracy: 0.7997\n",
      "Epoch 33/100\n",
      "102/102 [==============================] - 0s 3ms/step - loss: 0.4312 - accuracy: 0.8012\n",
      "Epoch 34/100\n",
      "102/102 [==============================] - 0s 3ms/step - loss: 0.4304 - accuracy: 0.7982\n",
      "Epoch 35/100\n",
      "102/102 [==============================] - 0s 3ms/step - loss: 0.4249 - accuracy: 0.7960\n",
      "Epoch 36/100\n",
      "102/102 [==============================] - 0s 3ms/step - loss: 0.4227 - accuracy: 0.8043\n",
      "Epoch 37/100\n",
      "102/102 [==============================] - 0s 3ms/step - loss: 0.4186 - accuracy: 0.7966\n",
      "Epoch 38/100\n",
      "102/102 [==============================] - 0s 3ms/step - loss: 0.4195 - accuracy: 0.8015\n",
      "Epoch 39/100\n",
      "102/102 [==============================] - 0s 5ms/step - loss: 0.4196 - accuracy: 0.8018\n",
      "Epoch 40/100\n",
      "102/102 [==============================] - 0s 4ms/step - loss: 0.4128 - accuracy: 0.8061\n",
      "Epoch 41/100\n",
      "102/102 [==============================] - 1s 6ms/step - loss: 0.4132 - accuracy: 0.8055\n",
      "Epoch 42/100\n",
      "102/102 [==============================] - 1s 5ms/step - loss: 0.4139 - accuracy: 0.8043\n",
      "Epoch 43/100\n",
      "102/102 [==============================] - 1s 6ms/step - loss: 0.4089 - accuracy: 0.8083\n",
      "Epoch 44/100\n",
      "102/102 [==============================] - 0s 4ms/step - loss: 0.4094 - accuracy: 0.8107\n",
      "Epoch 45/100\n",
      "102/102 [==============================] - 0s 2ms/step - loss: 0.4078 - accuracy: 0.8129\n",
      "Epoch 46/100\n",
      "102/102 [==============================] - 0s 2ms/step - loss: 0.4049 - accuracy: 0.8147\n",
      "Epoch 47/100\n",
      "102/102 [==============================] - 0s 2ms/step - loss: 0.3992 - accuracy: 0.8147\n",
      "Epoch 48/100\n",
      "102/102 [==============================] - 0s 2ms/step - loss: 0.4002 - accuracy: 0.8123\n",
      "Epoch 49/100\n",
      "102/102 [==============================] - 0s 2ms/step - loss: 0.4032 - accuracy: 0.8153\n",
      "Epoch 50/100\n",
      "102/102 [==============================] - 0s 3ms/step - loss: 0.3981 - accuracy: 0.8132\n",
      "Epoch 51/100\n",
      "102/102 [==============================] - 0s 3ms/step - loss: 0.4027 - accuracy: 0.8144\n",
      "Epoch 52/100\n",
      "102/102 [==============================] - 0s 3ms/step - loss: 0.3966 - accuracy: 0.8169\n",
      "Epoch 53/100\n",
      "102/102 [==============================] - 0s 3ms/step - loss: 0.3956 - accuracy: 0.8126\n",
      "Epoch 54/100\n",
      "102/102 [==============================] - 0s 2ms/step - loss: 0.3973 - accuracy: 0.8187\n",
      "Epoch 55/100\n",
      "102/102 [==============================] - 0s 2ms/step - loss: 0.3925 - accuracy: 0.8190\n",
      "Epoch 56/100\n",
      "102/102 [==============================] - 0s 2ms/step - loss: 0.3921 - accuracy: 0.8156\n",
      "Epoch 57/100\n",
      "102/102 [==============================] - 0s 2ms/step - loss: 0.3896 - accuracy: 0.8169\n",
      "Epoch 58/100\n",
      "102/102 [==============================] - 0s 2ms/step - loss: 0.3893 - accuracy: 0.8206\n",
      "Epoch 59/100\n",
      "102/102 [==============================] - 0s 2ms/step - loss: 0.3853 - accuracy: 0.8298\n",
      "Epoch 60/100\n",
      "102/102 [==============================] - 0s 2ms/step - loss: 0.3825 - accuracy: 0.8276\n",
      "Epoch 61/100\n",
      "102/102 [==============================] - 0s 2ms/step - loss: 0.3811 - accuracy: 0.8209\n",
      "Epoch 62/100\n",
      "102/102 [==============================] - 0s 3ms/step - loss: 0.3835 - accuracy: 0.8242\n",
      "Epoch 63/100\n",
      "102/102 [==============================] - 0s 2ms/step - loss: 0.3834 - accuracy: 0.8236\n",
      "Epoch 64/100\n",
      "102/102 [==============================] - 0s 2ms/step - loss: 0.3781 - accuracy: 0.8264\n",
      "Epoch 65/100\n",
      "102/102 [==============================] - 0s 2ms/step - loss: 0.3794 - accuracy: 0.8245\n",
      "Epoch 66/100\n",
      "102/102 [==============================] - 0s 2ms/step - loss: 0.3797 - accuracy: 0.8270\n",
      "Epoch 67/100\n",
      "102/102 [==============================] - 0s 2ms/step - loss: 0.3746 - accuracy: 0.8276\n",
      "Epoch 68/100\n",
      "102/102 [==============================] - 0s 2ms/step - loss: 0.3715 - accuracy: 0.8331\n",
      "Epoch 69/100\n",
      "102/102 [==============================] - 0s 2ms/step - loss: 0.3730 - accuracy: 0.8301\n",
      "Epoch 70/100\n",
      "102/102 [==============================] - 0s 2ms/step - loss: 0.3707 - accuracy: 0.8328\n",
      "Epoch 71/100\n",
      "102/102 [==============================] - 0s 2ms/step - loss: 0.3692 - accuracy: 0.8353\n",
      "Epoch 72/100\n",
      "102/102 [==============================] - 0s 3ms/step - loss: 0.3669 - accuracy: 0.8325\n",
      "Epoch 73/100\n",
      "102/102 [==============================] - 0s 3ms/step - loss: 0.3650 - accuracy: 0.8353\n",
      "Epoch 74/100\n",
      "102/102 [==============================] - 0s 2ms/step - loss: 0.3651 - accuracy: 0.8331\n",
      "Epoch 75/100\n",
      "102/102 [==============================] - 0s 2ms/step - loss: 0.3684 - accuracy: 0.8334\n",
      "Epoch 76/100\n",
      "102/102 [==============================] - 0s 3ms/step - loss: 0.3673 - accuracy: 0.8316\n",
      "Epoch 77/100\n",
      "102/102 [==============================] - 0s 2ms/step - loss: 0.3618 - accuracy: 0.8365\n",
      "Epoch 78/100\n",
      "102/102 [==============================] - 0s 2ms/step - loss: 0.3624 - accuracy: 0.8350\n",
      "Epoch 79/100\n",
      "102/102 [==============================] - 0s 3ms/step - loss: 0.3541 - accuracy: 0.8393\n",
      "Epoch 80/100\n",
      "102/102 [==============================] - 0s 3ms/step - loss: 0.3566 - accuracy: 0.8368\n",
      "Epoch 81/100\n",
      "102/102 [==============================] - 0s 2ms/step - loss: 0.3568 - accuracy: 0.8390\n",
      "Epoch 82/100\n",
      "102/102 [==============================] - 0s 2ms/step - loss: 0.3585 - accuracy: 0.8353\n",
      "Epoch 83/100\n",
      "102/102 [==============================] - 0s 3ms/step - loss: 0.3534 - accuracy: 0.8374\n",
      "Epoch 84/100\n",
      "102/102 [==============================] - 0s 2ms/step - loss: 0.3512 - accuracy: 0.8402\n",
      "Epoch 85/100\n",
      "102/102 [==============================] - 0s 2ms/step - loss: 0.3547 - accuracy: 0.8414\n",
      "Epoch 86/100\n",
      "102/102 [==============================] - 0s 3ms/step - loss: 0.3520 - accuracy: 0.8405\n",
      "Epoch 87/100\n",
      "102/102 [==============================] - 0s 2ms/step - loss: 0.3474 - accuracy: 0.8402\n",
      "Epoch 88/100\n",
      "102/102 [==============================] - 0s 2ms/step - loss: 0.3480 - accuracy: 0.8433\n",
      "Epoch 89/100\n",
      "102/102 [==============================] - 0s 2ms/step - loss: 0.3451 - accuracy: 0.8439\n",
      "Epoch 90/100\n",
      "102/102 [==============================] - 0s 2ms/step - loss: 0.3430 - accuracy: 0.8472\n",
      "Epoch 91/100\n",
      "102/102 [==============================] - 0s 2ms/step - loss: 0.3439 - accuracy: 0.8472\n",
      "Epoch 92/100\n",
      "102/102 [==============================] - 0s 2ms/step - loss: 0.3412 - accuracy: 0.8497\n",
      "Epoch 93/100\n",
      "102/102 [==============================] - 0s 2ms/step - loss: 0.3402 - accuracy: 0.8500\n",
      "Epoch 94/100\n",
      "102/102 [==============================] - 0s 2ms/step - loss: 0.3347 - accuracy: 0.8537\n",
      "Epoch 95/100\n",
      "102/102 [==============================] - 0s 2ms/step - loss: 0.3381 - accuracy: 0.8460\n",
      "Epoch 96/100\n",
      "102/102 [==============================] - 0s 2ms/step - loss: 0.3395 - accuracy: 0.8485\n",
      "Epoch 97/100\n",
      "102/102 [==============================] - 0s 2ms/step - loss: 0.3364 - accuracy: 0.8488\n",
      "Epoch 98/100\n",
      "102/102 [==============================] - 0s 2ms/step - loss: 0.3355 - accuracy: 0.8497\n",
      "Epoch 99/100\n",
      "102/102 [==============================] - 0s 2ms/step - loss: 0.3333 - accuracy: 0.8475\n",
      "Epoch 100/100\n",
      "102/102 [==============================] - 0s 2ms/step - loss: 0.3305 - accuracy: 0.8528\n",
      "Model Evaluation : \n",
      "63/63 [==============================] - 0s 2ms/step - loss: 0.5815 - accuracy: 0.7600\n",
      "[0.5815005898475647, 0.7599999904632568]\n",
      "63/63 [==============================] - 0s 1ms/step\n",
      "Classification Report: \n",
      "               precision    recall  f1-score   support\n",
      "\n",
      "           0       0.92      0.77      0.84      1593\n",
      "           1       0.45      0.73      0.55       407\n",
      "\n",
      "    accuracy                           0.76      2000\n",
      "   macro avg       0.68      0.75      0.69      2000\n",
      "weighted avg       0.82      0.76      0.78      2000\n",
      "\n"
     ]
    }
   ],
   "source": [
    "X_train, y_train = get_train_batch(class_0, class_1, 1630*2, 1630*3)\n",
    "y_preds_3 = ANN(X_train, y_train, X_test, y_test, 100)"
   ]
  },
  {
   "cell_type": "code",
   "execution_count": null,
   "metadata": {},
   "outputs": [],
   "source": []
  },
  {
   "cell_type": "code",
   "execution_count": 142,
   "metadata": {},
   "outputs": [],
   "source": [
    "y_pred_final = y_preds_1.copy()\n",
    "\n",
    "for i in range(len(y_pred_final)):\n",
    "    n_ones = y_preds_1[i] + y_preds_2[i] + y_preds_3[i]\n",
    "    \n",
    "    if n_ones > 1:\n",
    "        y_pred_final[i] = 1\n",
    "    else:\n",
    "        y_pred_final[i] = 0"
   ]
  },
  {
   "cell_type": "code",
   "execution_count": null,
   "metadata": {},
   "outputs": [],
   "source": []
  },
  {
   "cell_type": "code",
   "execution_count": 143,
   "metadata": {
    "scrolled": true
   },
   "outputs": [
    {
     "name": "stdout",
     "output_type": "stream",
     "text": [
      "              precision    recall  f1-score   support\n",
      "\n",
      "           0       0.91      0.82      0.87      1593\n",
      "           1       0.50      0.68      0.58       407\n",
      "\n",
      "    accuracy                           0.80      2000\n",
      "   macro avg       0.70      0.75      0.72      2000\n",
      "weighted avg       0.83      0.80      0.81      2000\n",
      "\n"
     ]
    }
   ],
   "source": [
    "print(classification_report(y_test, y_pred_final))"
   ]
  },
  {
   "cell_type": "code",
   "execution_count": null,
   "metadata": {},
   "outputs": [],
   "source": []
  }
 ],
 "metadata": {
  "kernelspec": {
   "display_name": "Python 3 (ipykernel)",
   "language": "python",
   "name": "python3"
  },
  "language_info": {
   "codemirror_mode": {
    "name": "ipython",
    "version": 3
   },
   "file_extension": ".py",
   "mimetype": "text/x-python",
   "name": "python",
   "nbconvert_exporter": "python",
   "pygments_lexer": "ipython3",
   "version": "3.8.5"
  }
 },
 "nbformat": 4,
 "nbformat_minor": 4
}
